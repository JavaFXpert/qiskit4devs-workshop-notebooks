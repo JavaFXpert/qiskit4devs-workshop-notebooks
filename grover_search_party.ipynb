{
  "nbformat": 4,
  "nbformat_minor": 0,
  "metadata": {
    "colab": {
      "name": "grover_search_party.ipynb",
      "provenance": [],
      "collapsed_sections": [],
      "include_colab_link": true
    },
    "kernelspec": {
      "name": "python3",
      "display_name": "Python 3"
    }
  },
  "cells": [
    {
      "cell_type": "markdown",
      "metadata": {
        "id": "view-in-github",
        "colab_type": "text"
      },
      "source": [
        "<a href=\"https://colab.research.google.com/github/JavaFXpert/qiskit4devs-workshop-notebooks/blob/master/grover_search_party.ipynb\" target=\"_parent\"><img src=\"https://colab.research.google.com/assets/colab-badge.svg\" alt=\"Open In Colab\"/></a>"
      ]
    },
    {
      "cell_type": "markdown",
      "metadata": {
        "id": "AWtng_Jgdkry"
      },
      "source": [
        "## Using Grover search for boolean satisfiability\n",
        "### *Throwing a party while avoiding the drama*\n",
        "\n",
        "Imagine you are inviting some friends to a party, some who are couples, and some who are not on speaking terms. Specifically, **Alice** and **Bob** are in a relationship, as are **Carol** and **David**. However, **Alice** and **David** had a bad breakup a while ago and haven't been civil with each other since. Armed with a quantum computer and Qiskit Aqua, how can you leverage Grover search algorithm to identify friendly combinations of people to invite?\n",
        "\n",
        "Fortunately, Grover search may be used for [boolean satisfiability problems](https://en.wikipedia.org/wiki/Boolean_satisfiability_problem), and the constraints for our party planning problem may be formulated with the following boolean expression:\n",
        "\n",
        "`((A and B) or (C and D)) and not (A and D)`"
      ]
    },
    {
      "cell_type": "code",
      "metadata": {
        "id": "M3JxYNYNFjir"
      },
      "source": [
        "# Do the necessary import for our program\n",
        "#!pip install qiskit\n",
        "from qiskit.circuit.library import PhaseOracle\n",
        "from qiskit.algorithms import AmplificationProblem\n",
        "from qiskit.algorithms import Grover\n",
        "from qiskit import Aer\n",
        "from qiskit.visualization import plot_histogram\n",
        "\n"
      ],
      "execution_count": 10,
      "outputs": []
    },
    {
      "cell_type": "markdown",
      "metadata": {
        "id": "FyuHM63TirCA"
      },
      "source": [
        "Let's go ahead and use our expression in a Grover search to find out compatible combinations of people to invite.\n",
        "> Note: We'll represent `and` with `&`, `or` with `|`, `not` with `~` in our expression. "
      ]
    },
    {
      "cell_type": "code",
      "metadata": {
        "id": "vNq_w8OSYhBc"
      },
      "source": [
        "oracle = PhaseOracle('((A & B) | (C & D)) & ~(A & D)')\n",
        "problem = AmplificationProblem(oracle)"
      ],
      "execution_count": 7,
      "outputs": []
    },
    {
      "cell_type": "markdown",
      "metadata": {
        "id": "RhWTThom1qdL"
      },
      "source": [
        "Now we'll run the algorithm on a simulator, printing the result that occurred most often. This result is expressed as the numeric representations of our four friends; a minus sign indicating which ones Grover advised against inviting in that particular result."
      ]
    },
    {
      "cell_type": "code",
      "metadata": {
        "id": "mZ3O0TclIPG2",
        "outputId": "26aa2415-605c-4b66-8627-eef504418cf1",
        "colab": {
          "base_uri": "https://localhost:8080/"
        }
      },
      "source": [
        "# Run the algorithm on a simulator, printing the most frequently occurring result\n",
        "backend = Aer.get_backend(\"aer_simulator\")\n",
        "\n",
        "grover = Grover(quantum_instance=backend)\n",
        "result = grover.amplify(problem)\n",
        "\n",
        "print(result.top_measurement)"
      ],
      "execution_count": 8,
      "outputs": [
        {
          "output_type": "stream",
          "name": "stdout",
          "text": [
            "1110\n"
          ]
        }
      ]
    },
    {
      "cell_type": "markdown",
      "metadata": {
        "id": "sKv4fdR_33yy"
      },
      "source": [
        "Finally, we'll plot the results. Each basis state represents our four friends, with the least significant bit representing Alice. If a bit is 1, then the advice is to invite the person that the bit represents. If the bit is 0, then Grover advises not to send an invitation."
      ]
    },
    {
      "cell_type": "code",
      "metadata": {
        "id": "OVUlFwGAIkY_",
        "outputId": "4936ca49-136c-4b2e-e857-fa262770da75",
        "colab": {
          "base_uri": "https://localhost:8080/",
          "height": 348
        }
      },
      "source": [
        "counts = result.circuit_results\n",
        "plot_histogram(counts)"
      ],
      "execution_count": 9,
      "outputs": [
        {
          "output_type": "execute_result",
          "data": {
            "image/png": "[encoded data removed]",
            "text/plain": [
              "<Figure size 504x360 with 1 Axes>"
            ]
          },
          "metadata": {},
          "execution_count": 9
        }
      ]
    },
    {
      "cell_type": "markdown",
      "metadata": {
        "id": "qlHiKXnCCYMn"
      },
      "source": [
        "#### Now it's you're turn to play!\n",
        "\n",
        "Create and implement your own scenario that can be modeled as a boolean satisfiability problem using Grover search. Have fun with it, and carry on with your quantum computing journey!"
      ]
    }
  ]
}