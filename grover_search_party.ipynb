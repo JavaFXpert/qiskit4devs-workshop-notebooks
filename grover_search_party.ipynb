{
  "nbformat": 4,
  "nbformat_minor": 0,
  "metadata": {
    "colab": {
      "name": "grover_search_party.ipynb",
      "version": "0.3.2",
      "provenance": [],
      "collapsed_sections": [],
      "include_colab_link": true
    },
    "kernelspec": {
      "name": "python3",
      "display_name": "Python 3"
    }
  },
  "cells": [
    {
      "cell_type": "markdown",
      "metadata": {
        "id": "view-in-github",
        "colab_type": "text"
      },
      "source": [
        "<a href=\"https://colab.research.google.com/github/JavaFXpert/qiskit4devs-workshop-notebooks/blob/master/grover_search_party.ipynb\" target=\"_parent\"><img src=\"https://colab.research.google.com/assets/colab-badge.svg\" alt=\"Open In Colab\"/></a>"
      ]
    },
    {
      "metadata": {
        "id": "AWtng_Jgdkry",
        "colab_type": "text"
      },
      "cell_type": "markdown",
      "source": [
        "## Using Grover search for boolean satisfiability\n",
        "### *Throwing a party while avoiding the drama*\n",
        "\n",
        "Imagine you are inviting some friends to a party, some who are couples, and some who are not on speaking terms. Specifically, Alice and Bob are in a relationship, as are Carol and David. However, Alice and David had a bad breakup a while ago and haven't been civil with each other since. Armed with a quantum computer and Qiskit Aqua, how can you leverage Grover search algorithm to identify friendly combinations of people to invite?\n",
        "\n",
        "Fortunately, Grover search may be used for [boolean satisfiability problems](https://en.wikipedia.org/wiki/Boolean_satisfiability_problem), and the constraints for our party planning problem may be formulated with the following boolean expression:\n",
        "\n",
        "`((A and B) or (C and D)) and not (A and D)`\n",
        "\n",
        "Consulting a site such as [Wolfram Alpha](https://www.wolframalpha.com/examples/mathematics/logic-and-set-theory/) reveals that our expression equates to the following formula in [conjunctive normal form](https://en.wikipedia.org/wiki/Conjunctive_normal_form), or CNF:\n",
        "\n",
        "`((not A) or B) and ((not A) or (not D)) and (A or C) and (A or D)`\n",
        "\n",
        ">**Note**: In a future version of Aqua, the Grover oracle may also likely be articulated as a boolean expression, eliminating the need for converting to CNF.\n",
        "\n",
        "To use the CNF expression in Aqua, we'll encode it as follows:\n",
        "\n",
        "```\n",
        "c Party invitation constraints\n",
        "p cnf 4 4\n",
        "-1 2 0\n",
        "-1 -4 0\n",
        "1 3 0\n",
        "1 4 0\n",
        "```\n",
        "\n",
        "The first line is a comment, denoted by the `c`. The second line indicates that there are four variables (A, B, C, D are represented by 1, 2, 3, 4), and four clauses. The remaining lines contain the clauses, each terminated by a `0`, with the minus sign indicating a logical `not`. Variables in each clause have an implicit `or` between them, and clauses have an implicit `and` between them.\n",
        "\n",
        "Let's go ahead and use our CNF expression in a Grover search to find out compatible combinations of people to invite.\n",
        "\n"
      ]
    },
    {
      "metadata": {
        "id": "M3JxYNYNFjir",
        "colab_type": "code",
        "colab": {
          "base_uri": "https://localhost:8080/",
          "height": 540
        },
        "outputId": "1292e20c-6dba-45de-f211-87d3df6fd6f7"
      },
      "cell_type": "code",
      "source": [
        "# Do the necessary import for our program\n",
        "!pip install qiskit-aqua\n",
        "from qiskit import BasicAer\n",
        "from qiskit_aqua.algorithms import Grover\n",
        "from qiskit_aqua.components.oracles import SAT\n",
        "from qiskit.tools.visualization import plot_histogram\n"
      ],
      "execution_count": 3,
      "outputs": [
        {
          "output_type": "stream",
          "text": [
            "Requirement already satisfied: qiskit-aqua in /usr/local/lib/python3.6/dist-packages (0.4.1)\n",
            "Requirement already satisfied: scipy!=0.19.1,>=0.19 in /usr/local/lib/python3.6/dist-packages (from qiskit-aqua) (1.1.0)\n",
            "Requirement already satisfied: numpy>=1.13 in /usr/local/lib/python3.6/dist-packages (from qiskit-aqua) (1.14.6)\n",
            "Requirement already satisfied: sympy>=1.3 in /usr/local/lib/python3.6/dist-packages (from qiskit-aqua) (1.3)\n",
            "Requirement already satisfied: qiskit-terra<0.8,>=0.7.0 in /usr/local/lib/python3.6/dist-packages (from qiskit-aqua) (0.7.1)\n",
            "Requirement already satisfied: psutil>=5 in /usr/local/lib/python3.6/dist-packages (from qiskit-aqua) (5.4.8)\n",
            "Requirement already satisfied: scikit-learn==0.20.0 in /usr/local/lib/python3.6/dist-packages (from qiskit-aqua) (0.20.0)\n",
            "Requirement already satisfied: setuptools>=40.5.0 in /usr/local/lib/python3.6/dist-packages (from qiskit-aqua) (40.8.0)\n",
            "Requirement already satisfied: jsonschema<2.7,>=2.6 in /usr/local/lib/python3.6/dist-packages (from qiskit-aqua) (2.6.0)\n",
            "Requirement already satisfied: cvxopt in /usr/local/lib/python3.6/dist-packages (from qiskit-aqua) (1.2.3)\n",
            "Requirement already satisfied: mpmath>=0.19 in /usr/local/lib/python3.6/dist-packages (from sympy>=1.3->qiskit-aqua) (1.1.0)\n",
            "Requirement already satisfied: marshmallow-polyfield<4,>=3.2 in /usr/local/lib/python3.6/dist-packages (from qiskit-terra<0.8,>=0.7.0->qiskit-aqua) (3.2)\n",
            "Requirement already satisfied: pillow>=4.2.1 in /usr/local/lib/python3.6/dist-packages (from qiskit-terra<0.8,>=0.7.0->qiskit-aqua) (5.4.1)\n",
            "Requirement already satisfied: ply>=3.10 in /usr/local/lib/python3.6/dist-packages (from qiskit-terra<0.8,>=0.7.0->qiskit-aqua) (3.11)\n",
            "Requirement already satisfied: networkx>=2.2 in /usr/local/lib/python3.6/dist-packages (from qiskit-terra<0.8,>=0.7.0->qiskit-aqua) (2.2)\n",
            "Requirement already satisfied: marshmallow<3,>=2.16.3 in /usr/local/lib/python3.6/dist-packages (from qiskit-terra<0.8,>=0.7.0->qiskit-aqua) (2.19.1)\n",
            "Requirement already satisfied: requests-ntlm>=1.1.0 in /usr/local/lib/python3.6/dist-packages (from qiskit-terra<0.8,>=0.7.0->qiskit-aqua) (1.1.0)\n",
            "Requirement already satisfied: requests>=2.19 in /usr/local/lib/python3.6/dist-packages (from qiskit-terra<0.8,>=0.7.0->qiskit-aqua) (2.21.0)\n",
            "Requirement already satisfied: decorator>=4.3.0 in /usr/local/lib/python3.6/dist-packages (from networkx>=2.2->qiskit-terra<0.8,>=0.7.0->qiskit-aqua) (4.3.2)\n",
            "Requirement already satisfied: cryptography>=1.3 in /usr/local/lib/python3.6/dist-packages (from requests-ntlm>=1.1.0->qiskit-terra<0.8,>=0.7.0->qiskit-aqua) (2.6.1)\n",
            "Requirement already satisfied: ntlm-auth>=1.0.2 in /usr/local/lib/python3.6/dist-packages (from requests-ntlm>=1.1.0->qiskit-terra<0.8,>=0.7.0->qiskit-aqua) (1.2.0)\n",
            "Requirement already satisfied: idna<2.9,>=2.5 in /usr/local/lib/python3.6/dist-packages (from requests>=2.19->qiskit-terra<0.8,>=0.7.0->qiskit-aqua) (2.6)\n",
            "Requirement already satisfied: urllib3<1.25,>=1.21.1 in /usr/local/lib/python3.6/dist-packages (from requests>=2.19->qiskit-terra<0.8,>=0.7.0->qiskit-aqua) (1.22)\n",
            "Requirement already satisfied: chardet<3.1.0,>=3.0.2 in /usr/local/lib/python3.6/dist-packages (from requests>=2.19->qiskit-terra<0.8,>=0.7.0->qiskit-aqua) (3.0.4)\n",
            "Requirement already satisfied: certifi>=2017.4.17 in /usr/local/lib/python3.6/dist-packages (from requests>=2.19->qiskit-terra<0.8,>=0.7.0->qiskit-aqua) (2019.3.9)\n",
            "Requirement already satisfied: cffi!=1.11.3,>=1.8 in /usr/local/lib/python3.6/dist-packages (from cryptography>=1.3->requests-ntlm>=1.1.0->qiskit-terra<0.8,>=0.7.0->qiskit-aqua) (1.12.2)\n",
            "Requirement already satisfied: six>=1.4.1 in /usr/local/lib/python3.6/dist-packages (from cryptography>=1.3->requests-ntlm>=1.1.0->qiskit-terra<0.8,>=0.7.0->qiskit-aqua) (1.11.0)\n",
            "Requirement already satisfied: asn1crypto>=0.21.0 in /usr/local/lib/python3.6/dist-packages (from cryptography>=1.3->requests-ntlm>=1.1.0->qiskit-terra<0.8,>=0.7.0->qiskit-aqua) (0.24.0)\n",
            "Requirement already satisfied: pycparser in /usr/local/lib/python3.6/dist-packages (from cffi!=1.11.3,>=1.8->cryptography>=1.3->requests-ntlm>=1.1.0->qiskit-terra<0.8,>=0.7.0->qiskit-aqua) (2.19)\n"
          ],
          "name": "stdout"
        }
      ]
    },
    {
      "metadata": {
        "id": "ryZf6uAlGeeV",
        "colab_type": "code",
        "colab": {}
      },
      "cell_type": "code",
      "source": [
        "# Construct the oracle and Grover algorithm instance\n",
        "sat_cnf = \"\"\"\n",
        "c Party invitation constraints\n",
        "p cnf 4 4\n",
        "-1 2 0\n",
        "-1 -4 0\n",
        "1 3 0\n",
        "1 4 0\n",
        "\"\"\"\n",
        "\n",
        "sat_oracle = SAT(sat_cnf)\n",
        "\n",
        "algorithm = Grover(sat_oracle)\n"
      ],
      "execution_count": 0,
      "outputs": []
    },
    {
      "metadata": {
        "id": "RhWTThom1qdL",
        "colab_type": "text"
      },
      "cell_type": "markdown",
      "source": [
        "Now we'll run the algorithm on a simulator, printing the result that occurred most often. This result is expressed as the numeric representations of our four friends; a minus sign indicating which ones Grover advised against inviting in that particular result."
      ]
    },
    {
      "metadata": {
        "id": "mZ3O0TclIPG2",
        "colab_type": "code",
        "outputId": "fe747f07-6c3f-49f8-e6c0-5fde8fbfed39",
        "colab": {
          "base_uri": "https://localhost:8080/",
          "height": 35
        }
      },
      "cell_type": "code",
      "source": [
        "# Run the algorithm on a simulator, printing the most frequently occurring result\n",
        "backend = BasicAer.get_backend('qasm_simulator')\n",
        "\n",
        "result = algorithm.run(backend)\n",
        "print(result['result'])"
      ],
      "execution_count": 9,
      "outputs": [
        {
          "output_type": "stream",
          "text": [
            "[1, 2, -3, -4]\n"
          ],
          "name": "stdout"
        }
      ]
    },
    {
      "metadata": {
        "id": "sKv4fdR_33yy",
        "colab_type": "text"
      },
      "cell_type": "markdown",
      "source": [
        "Finally, we'll plot the results. Each basis state represents our four friends, with the least significant bit representing Alice. If a bit is 1, then the advice is to invite the person that the bit represents. If the bit is 0, then Grover advises not to send an invitation."
      ]
    },
    {
      "metadata": {
        "id": "OVUlFwGAIkY_",
        "colab_type": "code",
        "outputId": "78d894e4-a4b4-465e-a23f-8bdd188ae35a",
        "colab": {
          "base_uri": "https://localhost:8080/",
          "height": 345
        }
      },
      "cell_type": "code",
      "source": [
        "plot_histogram(result['measurements'])"
      ],
      "execution_count": 10,
      "outputs": [
        {
          "output_type": "execute_result",
          "data": {
            "image/png": "[encoded data removed]",
            "text/plain": [
              "<Figure size 504x360 with 1 Axes>"
            ]
          },
          "metadata": {
            "tags": []
          },
          "execution_count": 10
        }
      ]
    },
    {
      "metadata": {
        "id": "qlHiKXnCCYMn",
        "colab_type": "text"
      },
      "cell_type": "markdown",
      "source": [
        "#### Now it's you're turn to play!\n",
        "\n",
        "Create and implement your own scenario that can be modeled as a boolean satisfiability problem using Grover search. Have fun with it, and carry on with your quantum computing journey!"
      ]
    }
  ]
}