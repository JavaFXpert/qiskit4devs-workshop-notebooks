{
  "nbformat": 4,
  "nbformat_minor": 0,
  "metadata": {
    "colab": {
      "name": "grover_search_party.ipynb",
      "version": "0.3.2",
      "provenance": [],
      "collapsed_sections": [],
      "include_colab_link": true
    },
    "kernelspec": {
      "name": "python3",
      "display_name": "Python 3"
    }
  },
  "cells": [
    {
      "cell_type": "markdown",
      "metadata": {
        "id": "view-in-github",
        "colab_type": "text"
      },
      "source": [
        "<a href=\"https://colab.research.google.com/github/JavaFXpert/qiskit4devs-workshop-notebooks/blob/master/grover_search_party.ipynb\" target=\"_parent\"><img src=\"https://colab.research.google.com/assets/colab-badge.svg\" alt=\"Open In Colab\"/></a>"
      ]
    },
    {
      "metadata": {
        "id": "AWtng_Jgdkry",
        "colab_type": "text"
      },
      "cell_type": "markdown",
      "source": [
        "## Using Grover search for boolean satisfiability\n",
        "### *Throwing a party while avoiding the drama*\n",
        "\n",
        "Imagine you are inviting some friends to a party, some who are couples, and some who are not on speaking terms. Specifically, Alice and Bob are in a relationship, as are Carol and David. However, Alice and David had a bad breakup a while ago and haven't been civil with each other since. Armed with a quantum computer and Qiskit Aqua, how can you leverage Grover search algorithm to identify friendly combinations of people to invite?\n",
        "\n",
        "Fortunately, Grover search may be used for [boolean satisfiability problems](https://en.wikipedia.org/wiki/Boolean_satisfiability_problem), and the constraints for our party planning problem may be formulated with the following boolean expression:\n",
        "\n",
        "`((A and B) or (C and D)) and not (A and D)`\n",
        "\n",
        "Consulting a site such as [Wolfram Alpha](https://www.wolframalpha.com/examples/mathematics/logic-and-set-theory/) reveals that our expression equates to the following formula in [conjunctive normal form](https://en.wikipedia.org/wiki/Conjunctive_normal_form), or CNF:\n",
        "\n",
        "`((not A) or B) and ((not A) or (not D)) and (A or C) and (A or D)`\n",
        "\n",
        ">**Note**: In a future version of Aqua, the Grover oracle may also likely be articulated as a boolean expression, eliminating the need for converting to CNF.\n",
        "\n",
        "To use the CNF expression in Aqua, we'll encode it as follows:\n",
        "\n",
        "```\n",
        "c Party invitation constraints\n",
        "p cnf 4 4\n",
        "-1 2 0\n",
        "-1 -4 0\n",
        "1 3 0\n",
        "1 4 0\n",
        "```\n",
        "\n",
        "The first line is a comment, denoted by the `c`. The second line indicates that there are four variables (A, B, C, D are represented by 1, 2, 3, 4), and four clauses. The remaining lines contain the clauses, each terminated by a `0`, with the minus sign indicating a logical `not`. Variables in each clause have an implicit `or` between them, and clauses have an implicit `and` between them.\n",
        "\n",
        "Let's go ahead and use our CNF expression in a Grover search to find out compatible combinations of people to invite.\n",
        "\n"
      ]
    },
    {
      "metadata": {
        "id": "M3JxYNYNFjir",
        "colab_type": "code",
        "colab": {}
      },
      "cell_type": "code",
      "source": [
        "# Do the necessary import for our program\n",
        "# !pip install qiskit-aqua\n",
        "from qiskit import BasicAer\n",
        "from qiskit_aqua.algorithms import Grover\n",
        "from qiskit_aqua.components.oracles import SAT\n",
        "from qiskit.tools.visualization import plot_histogram\n"
      ],
      "execution_count": 0,
      "outputs": []
    },
    {
      "metadata": {
        "id": "ryZf6uAlGeeV",
        "colab_type": "code",
        "colab": {}
      },
      "cell_type": "code",
      "source": [
        "# Construct the oracle and Grover algorithm instance\n",
        "sat_cnf = \"\"\"\n",
        "c Party invitation constraints\n",
        "p cnf 4 4\n",
        "-1 2 0\n",
        "-1 -4 0\n",
        "1 3 0\n",
        "1 4 0\n",
        "\"\"\"\n",
        "\n",
        "sat_oracle = SAT(sat_cnf)\n",
        "\n",
        "algorithm = Grover(sat_oracle)\n"
      ],
      "execution_count": 0,
      "outputs": []
    },
    {
      "metadata": {
        "id": "RhWTThom1qdL",
        "colab_type": "text"
      },
      "cell_type": "markdown",
      "source": [
        "Now we'll run the algorithm on a simulator, printing the result that occurred most often. This result is expressed as the numeric representations of our four friends; a minus sign indicating which ones Grover advised against inviting in that particular result."
      ]
    },
    {
      "metadata": {
        "id": "mZ3O0TclIPG2",
        "colab_type": "code",
        "colab": {}
      },
      "cell_type": "code",
      "source": [
        "# Run the algorithm on a simulator, printing the most frequently occurring result\n",
        "backend = BasicAer.get_backend('qasm_simulator')\n",
        "\n",
        "result = algorithm.run(backend)\n",
        "print(result['result'])"
      ],
      "execution_count": 0,
      "outputs": []
    },
    {
      "metadata": {
        "id": "sKv4fdR_33yy",
        "colab_type": "text"
      },
      "cell_type": "markdown",
      "source": [
        "Finally, we'll plot the results. Each basis state represents our four friends, with the least significant bit representing Alice. If a bit is 1, then the advice is to invite the person that the bit represents. If the bit is 0, then Grover advises not to send an invitation."
      ]
    },
    {
      "metadata": {
        "id": "OVUlFwGAIkY_",
        "colab_type": "code",
        "colab": {}
      },
      "cell_type": "code",
      "source": [
        "plot_histogram(result['measurements'])"
      ],
      "execution_count": 0,
      "outputs": []
    },
    {
      "metadata": {
        "id": "qlHiKXnCCYMn",
        "colab_type": "text"
      },
      "cell_type": "markdown",
      "source": [
        "#### Now it's you're turn to play!\n",
        "\n",
        "Create and implement your own scenario that can be modeled as a boolean satisfiability problem using Grover search. Have fun with it, and carry on with your quantum computing journey!"
      ]
    }
  ]
}