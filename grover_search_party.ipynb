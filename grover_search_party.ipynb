{
  "nbformat": 4,
  "nbformat_minor": 0,
  "metadata": {
    "colab": {
      "name": "grover_search_party.ipynb",
      "version": "0.3.2",
      "provenance": [],
      "collapsed_sections": [],
      "include_colab_link": true
    },
    "kernelspec": {
      "name": "python3",
      "display_name": "Python 3"
    }
  },
  "cells": [
    {
      "cell_type": "markdown",
      "metadata": {
        "id": "view-in-github",
        "colab_type": "text"
      },
      "source": [
        "<a href=\"https://colab.research.google.com/github/JavaFXpert/qiskit4devs-workshop-notebooks/blob/master/grover_search_party.ipynb\" target=\"_parent\"><img src=\"https://colab.research.google.com/assets/colab-badge.svg\" alt=\"Open In Colab\"/></a>"
      ]
    },
    {
      "cell_type": "markdown",
      "metadata": {
        "id": "AWtng_Jgdkry",
        "colab_type": "text"
      },
      "source": [
        "## Using Grover search for boolean satisfiability\n",
        "### *Throwing a party while avoiding the drama*\n",
        "\n",
        "Imagine you are inviting some friends to a party, some who are couples, and some who are not on speaking terms. Specifically, Alice and Bob are in a relationship, as are Carol and David. However, Alice and David had a bad breakup a while ago and haven't been civil with each other since. Armed with a quantum computer and Qiskit Aqua, how can you leverage Grover search algorithm to identify friendly combinations of people to invite?\n",
        "\n",
        "Fortunately, Grover search may be used for [boolean satisfiability problems](https://en.wikipedia.org/wiki/Boolean_satisfiability_problem), and the constraints for our party planning problem may be formulated with the following boolean expression:\n",
        "\n",
        "`((A and B) or (C and D)) and not (A and D)`\n",
        "\n",
        "Consulting a site such as [Wolfram Alpha](https://www.wolframalpha.com/examples/mathematics/logic-and-set-theory/) reveals that our expression equates to the following formula in [conjunctive normal form](https://en.wikipedia.org/wiki/Conjunctive_normal_form), or CNF:\n",
        "\n",
        "`((not A) or B) and ((not A) or (not D)) and (A or C) and (A or D)`\n",
        "\n",
        ">**Note**: In a future version of Aqua, the Grover oracle may also likely be articulated as a boolean expression, eliminating the need for converting to CNF.\n",
        "\n",
        "To use the CNF expression in Aqua, we'll encode it as follows:\n",
        "\n",
        "```\n",
        "c Party invitation constraints\n",
        "p cnf 4 4\n",
        "-1 2 0\n",
        "-1 -4 0\n",
        "1 3 0\n",
        "1 4 0\n",
        "```\n",
        "\n",
        "The first line is a comment, denoted by the `c`. The second line indicates that there are four variables (A, B, C, D are represented by 1, 2, 3, 4), and four clauses. The remaining lines contain the clauses, each terminated by a `0`, with the minus sign indicating a logical `not`. Variables in each clause have an implicit `or` between them, and clauses have an implicit `and` between them.\n",
        "\n",
        "Let's go ahead and use our CNF expression in a Grover search to find out compatible combinations of people to invite.\n",
        "\n"
      ]
    },
    {
      "cell_type": "code",
      "metadata": {
        "id": "M3JxYNYNFjir",
        "colab_type": "code",
        "colab": {
          "base_uri": "https://localhost:8080/",
          "height": 1751
        },
        "outputId": "faa37d42-69a4-43d5-acc2-37aca9ac2f30"
      },
      "source": [
        "# Do the necessary import for our program\n",
        "!pip install qiskit-aqua\n",
        "from qiskit import BasicAer\n",
        "from qiskit.aqua.algorithms import Grover\n",
        "from qiskit.aqua.components.oracles import LogicalExpressionOracle\n",
        "from qiskit.tools.visualization import plot_histogram\n"
      ],
      "execution_count": 1,
      "outputs": [
        {
          "output_type": "stream",
          "text": [
            "Collecting qiskit-aqua\n",
            "\u001b[?25l  Downloading https://files.pythonhosted.org/packages/36/ec/7f265fb26b19e68deefc879e4642ca0618f5551d7b5765049562ad9824e5/qiskit_aqua-0.5.0-py3-none-any.whl (401kB)\n",
            "\u001b[K     |████████████████████████████████| 409kB 1.8MB/s \n",
            "\u001b[?25hRequirement already satisfied: psutil>=5 in /usr/local/lib/python3.6/dist-packages (from qiskit-aqua) (5.4.8)\n",
            "Collecting pyeda; sys_platform != \"win32\" (from qiskit-aqua)\n",
            "\u001b[?25l  Downloading https://files.pythonhosted.org/packages/01/29/b6ce038a75409239db8762b4744c8b53eb62e0b6240ece1c2969a7250206/pyeda-0.28.0.tar.gz (478kB)\n",
            "\u001b[K     |████████████████████████████████| 481kB 42.4MB/s \n",
            "\u001b[?25hCollecting docplex (from qiskit-aqua)\n",
            "\u001b[?25l  Downloading https://files.pythonhosted.org/packages/83/e7/5882561091830be9047fe29b4304714ddc0aaf403c8c123ad2e87f4a0376/docplex-2.9.141.tar.gz (501kB)\n",
            "\u001b[K     |████████████████████████████████| 501kB 37.2MB/s \n",
            "\u001b[?25hCollecting quandl (from qiskit-aqua)\n",
            "  Downloading https://files.pythonhosted.org/packages/12/64/6314547cb01fa75697ddba6d6d43a9f1d023c1730ffc6abf3db7a0c89222/Quandl-3.4.8-py2.py3-none-any.whl\n",
            "Collecting qiskit-ignis<0.2,>=0.1.0 (from qiskit-aqua)\n",
            "\u001b[?25l  Downloading https://files.pythonhosted.org/packages/6e/4e/77230b3a51a864fd54c2ef7b6a0d417063cf4b18943ce8fcd45e15f74f3e/qiskit_ignis-0.1.1-py3-none-any.whl (78kB)\n",
            "\u001b[K     |████████████████████████████████| 81kB 15.2MB/s \n",
            "\u001b[?25hRequirement already satisfied: torch; sys_platform != \"win32\" in /usr/local/lib/python3.6/dist-packages (from qiskit-aqua) (1.1.0)\n",
            "Requirement already satisfied: numpy>=1.13 in /usr/local/lib/python3.6/dist-packages (from qiskit-aqua) (1.16.3)\n",
            "Requirement already satisfied: jsonschema<2.7,>=2.6 in /usr/local/lib/python3.6/dist-packages (from qiskit-aqua) (2.6.0)\n",
            "Requirement already satisfied: cvxopt in /usr/local/lib/python3.6/dist-packages (from qiskit-aqua) (1.2.3)\n",
            "Requirement already satisfied: setuptools>=40.1.0 in /usr/local/lib/python3.6/dist-packages (from qiskit-aqua) (41.0.1)\n",
            "Collecting dlx (from qiskit-aqua)\n",
            "  Downloading https://files.pythonhosted.org/packages/54/c0/b8fb5bb727e983b6f5251433ef941b48f38c65bb0bd6ec509e9185bcd406/dlx-1.0.4.tar.gz\n",
            "Collecting qiskit-terra<0.9,>=0.8.0 (from qiskit-aqua)\n",
            "\u001b[?25l  Downloading https://files.pythonhosted.org/packages/8c/2d/6b24485910f98155d055ca20af877ad3a12c1447d425c12fe3fd1363e8bc/qiskit_terra-0.8.0-cp36-cp36m-manylinux1_x86_64.whl (1.5MB)\n",
            "\u001b[K     |████████████████████████████████| 1.5MB 38.1MB/s \n",
            "\u001b[?25hRequirement already satisfied: fastdtw in /usr/local/lib/python3.6/dist-packages (from qiskit-aqua) (0.3.2)\n",
            "Requirement already satisfied: scikit-learn>=0.20.0 in /usr/local/lib/python3.6/dist-packages (from qiskit-aqua) (0.20.3)\n",
            "Collecting sympy>=1.3 (from qiskit-aqua)\n",
            "\u001b[?25l  Downloading https://files.pythonhosted.org/packages/21/21/f4105795ca7f35c541d82c5b06be684dd2f5cb4f508fb487cd7aea4de776/sympy-1.4-py2.py3-none-any.whl (5.3MB)\n",
            "\u001b[K     |████████████████████████████████| 5.3MB 37.8MB/s \n",
            "\u001b[?25hRequirement already satisfied: scipy!=0.19.1,>=0.19 in /usr/local/lib/python3.6/dist-packages (from qiskit-aqua) (1.2.1)\n",
            "Requirement already satisfied: requests in /usr/local/lib/python3.6/dist-packages (from docplex->qiskit-aqua) (2.21.0)\n",
            "Requirement already satisfied: six in /usr/local/lib/python3.6/dist-packages (from docplex->qiskit-aqua) (1.12.0)\n",
            "Collecting docloud>=1.0.315 (from docplex->qiskit-aqua)\n",
            "  Downloading https://files.pythonhosted.org/packages/26/c3/f64eb186f8296603fcd4bf6f1e514e7c57e76ca2bd6d1b37221890e123e3/docloud-1.0.369.tar.gz\n",
            "Requirement already satisfied: pyasn1 in /usr/local/lib/python3.6/dist-packages (from quandl->qiskit-aqua) (0.4.5)\n",
            "Requirement already satisfied: python-dateutil in /usr/local/lib/python3.6/dist-packages (from quandl->qiskit-aqua) (2.5.3)\n",
            "Collecting pyOpenSSL (from quandl->qiskit-aqua)\n",
            "\u001b[?25l  Downloading https://files.pythonhosted.org/packages/01/c8/ceb170d81bd3941cbeb9940fc6cc2ef2ca4288d0ca8929ea4db5905d904d/pyOpenSSL-19.0.0-py2.py3-none-any.whl (53kB)\n",
            "\u001b[K     |████████████████████████████████| 61kB 20.1MB/s \n",
            "\u001b[?25hCollecting more-itertools<=5.0.0 (from quandl->qiskit-aqua)\n",
            "\u001b[?25l  Downloading https://files.pythonhosted.org/packages/a4/a6/42f17d065bda1fac255db13afc94c93dbfb64393eae37c749b4cb0752fc7/more_itertools-5.0.0-py3-none-any.whl (52kB)\n",
            "\u001b[K     |████████████████████████████████| 61kB 23.0MB/s \n",
            "\u001b[?25hCollecting inflection>=0.3.1 (from quandl->qiskit-aqua)\n",
            "  Downloading https://files.pythonhosted.org/packages/d5/35/a6eb45b4e2356fe688b21570864d4aa0d0a880ce387defe9c589112077f8/inflection-0.3.1.tar.gz\n",
            "Collecting ndg-httpsclient (from quandl->qiskit-aqua)\n",
            "  Downloading https://files.pythonhosted.org/packages/fb/67/c2f508c00ed2a6911541494504b7cac16fe0b0473912568df65fd1801132/ndg_httpsclient-0.5.1-py3-none-any.whl\n",
            "Requirement already satisfied: pandas>=0.14 in /usr/local/lib/python3.6/dist-packages (from quandl->qiskit-aqua) (0.24.2)\n",
            "Collecting marshmallow<3,>=2.17.0 (from qiskit-terra<0.9,>=0.8.0->qiskit-aqua)\n",
            "\u001b[?25l  Downloading https://files.pythonhosted.org/packages/bc/b4/f54f8533aad0645431bfda2cc3d20913a305779c80f8cb71229e8b615c5b/marshmallow-2.19.2-py2.py3-none-any.whl (50kB)\n",
            "\u001b[K     |████████████████████████████████| 51kB 17.8MB/s \n",
            "\u001b[?25hRequirement already satisfied: pillow>=4.2.1 in /usr/local/lib/python3.6/dist-packages (from qiskit-terra<0.9,>=0.8.0->qiskit-aqua) (4.3.0)\n",
            "Requirement already satisfied: networkx>=2.2 in /usr/local/lib/python3.6/dist-packages (from qiskit-terra<0.9,>=0.8.0->qiskit-aqua) (2.3)\n",
            "Collecting pylatexenc>=1.4 (from qiskit-terra<0.9,>=0.8.0->qiskit-aqua)\n",
            "\u001b[?25l  Downloading https://files.pythonhosted.org/packages/54/ea/8e394f28d532f86241c77ecb8701e51973151059528de028a18c35249e8d/pylatexenc-1.4.tar.gz (47kB)\n",
            "\u001b[K     |████████████████████████████████| 51kB 19.3MB/s \n",
            "\u001b[?25hCollecting marshmallow-polyfield<4,>=3.2 (from qiskit-terra<0.9,>=0.8.0->qiskit-aqua)\n",
            "  Downloading https://files.pythonhosted.org/packages/fa/ba/6406b8cce3e42b2838d234310c3605627083bbb8f71dcc312c616480fe92/marshmallow_polyfield-3.2-py2.py3-none-any.whl\n",
            "Collecting ply>=3.10 (from qiskit-terra<0.9,>=0.8.0->qiskit-aqua)\n",
            "\u001b[?25l  Downloading https://files.pythonhosted.org/packages/a3/58/35da89ee790598a0700ea49b2a66594140f44dec458c07e8e3d4979137fc/ply-3.11-py2.py3-none-any.whl (49kB)\n",
            "\u001b[K     |████████████████████████████████| 51kB 18.5MB/s \n",
            "\u001b[?25hRequirement already satisfied: mpmath>=0.19 in /usr/local/lib/python3.6/dist-packages (from sympy>=1.3->qiskit-aqua) (1.1.0)\n",
            "Requirement already satisfied: urllib3<1.25,>=1.21.1 in /usr/local/lib/python3.6/dist-packages (from requests->docplex->qiskit-aqua) (1.24.3)\n",
            "Requirement already satisfied: idna<2.9,>=2.5 in /usr/local/lib/python3.6/dist-packages (from requests->docplex->qiskit-aqua) (2.8)\n",
            "Requirement already satisfied: chardet<3.1.0,>=3.0.2 in /usr/local/lib/python3.6/dist-packages (from requests->docplex->qiskit-aqua) (3.0.4)\n",
            "Requirement already satisfied: certifi>=2017.4.17 in /usr/local/lib/python3.6/dist-packages (from requests->docplex->qiskit-aqua) (2019.3.9)\n",
            "Collecting cryptography>=2.3 (from pyOpenSSL->quandl->qiskit-aqua)\n",
            "\u001b[?25l  Downloading https://files.pythonhosted.org/packages/5b/12/b0409a94dad366d98a8eee2a77678c7a73aafd8c0e4b835abea634ea3896/cryptography-2.6.1-cp34-abi3-manylinux1_x86_64.whl (2.3MB)\n",
            "\u001b[K     |████████████████████████████████| 2.3MB 28.4MB/s \n",
            "\u001b[?25hRequirement already satisfied: pytz>=2011k in /usr/local/lib/python3.6/dist-packages (from pandas>=0.14->quandl->qiskit-aqua) (2018.9)\n",
            "Requirement already satisfied: olefile in /usr/local/lib/python3.6/dist-packages (from pillow>=4.2.1->qiskit-terra<0.9,>=0.8.0->qiskit-aqua) (0.46)\n",
            "Requirement already satisfied: decorator>=4.3.0 in /usr/local/lib/python3.6/dist-packages (from networkx>=2.2->qiskit-terra<0.9,>=0.8.0->qiskit-aqua) (4.4.0)\n",
            "Collecting asn1crypto>=0.21.0 (from cryptography>=2.3->pyOpenSSL->quandl->qiskit-aqua)\n",
            "\u001b[?25l  Downloading https://files.pythonhosted.org/packages/ea/cd/35485615f45f30a510576f1a56d1e0a7ad7bd8ab5ed7cdc600ef7cd06222/asn1crypto-0.24.0-py2.py3-none-any.whl (101kB)\n",
            "\u001b[K     |████████████████████████████████| 102kB 27.7MB/s \n",
            "\u001b[?25hRequirement already satisfied: cffi!=1.11.3,>=1.8 in /usr/local/lib/python3.6/dist-packages (from cryptography>=2.3->pyOpenSSL->quandl->qiskit-aqua) (1.12.3)\n",
            "Requirement already satisfied: pycparser in /usr/local/lib/python3.6/dist-packages (from cffi!=1.11.3,>=1.8->cryptography>=2.3->pyOpenSSL->quandl->qiskit-aqua) (2.19)\n",
            "Building wheels for collected packages: pyeda, docplex, dlx, docloud, inflection, pylatexenc\n",
            "  Building wheel for pyeda (setup.py) ... \u001b[?25l\u001b[?25hdone\n",
            "  Stored in directory: /root/.cache/pip/wheels/8e/33/76/efb4411454eb542ca9737cdd60418ec23f3625809738d17871\n",
            "  Building wheel for docplex (setup.py) ... \u001b[?25l\u001b[?25hdone\n",
            "  Stored in directory: /root/.cache/pip/wheels/87/a0/8b/d628240de84941fbc744b270701a75d16c2368e1f341264965\n",
            "  Building wheel for dlx (setup.py) ... \u001b[?25l\u001b[?25hdone\n",
            "  Stored in directory: /root/.cache/pip/wheels/bb/ba/15/fdd0deb104df3254912998150ba9245668db06b00af5912d1a\n",
            "  Building wheel for docloud (setup.py) ... \u001b[?25l\u001b[?25hdone\n",
            "  Stored in directory: /root/.cache/pip/wheels/83/a9/15/8461c57475540838a2895c5f235d511a2d940d6c573074b2b4\n",
            "  Building wheel for inflection (setup.py) ... \u001b[?25l\u001b[?25hdone\n",
            "  Stored in directory: /root/.cache/pip/wheels/9f/5a/d3/6fc3bf6516d2a3eb7e18f9f28b472110b59325f3f258fe9211\n",
            "  Building wheel for pylatexenc (setup.py) ... \u001b[?25l\u001b[?25hdone\n",
            "  Stored in directory: /root/.cache/pip/wheels/2e/a0/53/8b149c27b27ed5ee9d515f1079612935df3eb5f21350726e40\n",
            "Successfully built pyeda docplex dlx docloud inflection pylatexenc\n",
            "\u001b[31mERROR: datascience 0.10.6 has requirement folium==0.2.1, but you'll have folium 0.8.3 which is incompatible.\u001b[0m\n",
            "Installing collected packages: pyeda, docloud, docplex, asn1crypto, cryptography, pyOpenSSL, more-itertools, inflection, ndg-httpsclient, quandl, marshmallow, pylatexenc, marshmallow-polyfield, ply, sympy, qiskit-terra, qiskit-ignis, dlx, qiskit-aqua\n",
            "  Found existing installation: more-itertools 7.0.0\n",
            "    Uninstalling more-itertools-7.0.0:\n",
            "      Successfully uninstalled more-itertools-7.0.0\n",
            "  Found existing installation: sympy 1.1.1\n",
            "    Uninstalling sympy-1.1.1:\n",
            "      Successfully uninstalled sympy-1.1.1\n",
            "Successfully installed asn1crypto-0.24.0 cryptography-2.6.1 dlx-1.0.4 docloud-1.0.369 docplex-2.9.141 inflection-0.3.1 marshmallow-2.19.2 marshmallow-polyfield-3.2 more-itertools-5.0.0 ndg-httpsclient-0.5.1 ply-3.11 pyOpenSSL-19.0.0 pyeda-0.28.0 pylatexenc-1.4 qiskit-aqua-0.5.0 qiskit-ignis-0.1.1 qiskit-terra-0.8.0 quandl-3.4.8 sympy-1.4\n"
          ],
          "name": "stdout"
        }
      ]
    },
    {
      "cell_type": "code",
      "metadata": {
        "id": "ryZf6uAlGeeV",
        "colab_type": "code",
        "colab": {}
      },
      "source": [
        "# Construct the oracle and Grover algorithm instance\n",
        "sat_cnf = \"\"\"\n",
        "c Party invitation constraints\n",
        "p cnf 4 4\n",
        "-1 2 0\n",
        "-1 -4 0\n",
        "1 3 0\n",
        "1 4 0\n",
        "\"\"\"\n",
        "\n",
        "sat_oracle = LogicalExpressionOracle(sat_cnf)\n",
        "\n",
        "algorithm = Grover(sat_oracle)\n"
      ],
      "execution_count": 0,
      "outputs": []
    },
    {
      "cell_type": "markdown",
      "metadata": {
        "id": "RhWTThom1qdL",
        "colab_type": "text"
      },
      "source": [
        "Now we'll run the algorithm on a simulator, printing the result that occurred most often. This result is expressed as the numeric representations of our four friends; a minus sign indicating which ones Grover advised against inviting in that particular result."
      ]
    },
    {
      "cell_type": "code",
      "metadata": {
        "id": "mZ3O0TclIPG2",
        "colab_type": "code",
        "outputId": "923a38c3-0071-459e-fc30-2206cf3e29fc",
        "colab": {
          "base_uri": "https://localhost:8080/",
          "height": 51
        }
      },
      "source": [
        "# Run the algorithm on a simulator, printing the most frequently occurring result\n",
        "backend = BasicAer.get_backend('qasm_simulator')\n",
        "\n",
        "result = algorithm.run(backend)\n",
        "print(result['result'])\n",
        "print(result['top_measurement'])"
      ],
      "execution_count": 16,
      "outputs": [
        {
          "output_type": "stream",
          "text": [
            "[-1, -2, 3, 4]\n",
            "1100\n"
          ],
          "name": "stdout"
        }
      ]
    },
    {
      "cell_type": "markdown",
      "metadata": {
        "id": "sKv4fdR_33yy",
        "colab_type": "text"
      },
      "source": [
        "Finally, we'll plot the results. Each basis state represents our four friends, with the least significant bit representing Alice. If a bit is 1, then the advice is to invite the person that the bit represents. If the bit is 0, then Grover advises not to send an invitation."
      ]
    },
    {
      "cell_type": "code",
      "metadata": {
        "id": "OVUlFwGAIkY_",
        "colab_type": "code",
        "outputId": "3face3b4-c713-4194-a142-a409cdeb5cc4",
        "colab": {
          "base_uri": "https://localhost:8080/",
          "height": 351
        }
      },
      "source": [
        "plot_histogram(result['measurement'])"
      ],
      "execution_count": 17,
      "outputs": [
        {
          "output_type": "execute_result",
          "data": {
            "image/png": "[encoded data removed]",
            "text/plain": [
              "<Figure size 504x360 with 1 Axes>"
            ]
          },
          "metadata": {
            "tags": []
          },
          "execution_count": 17
        }
      ]
    },
    {
      "cell_type": "markdown",
      "metadata": {
        "id": "qlHiKXnCCYMn",
        "colab_type": "text"
      },
      "source": [
        "#### Now it's you're turn to play!\n",
        "\n",
        "Create and implement your own scenario that can be modeled as a boolean satisfiability problem using Grover search. Have fun with it, and carry on with your quantum computing journey!"
      ]
    }
  ]
}