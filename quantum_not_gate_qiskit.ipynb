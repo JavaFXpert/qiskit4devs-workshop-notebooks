{
  "nbformat": 4,
  "nbformat_minor": 0,
  "metadata": {
    "colab": {
      "name": "quantum_not_gate_qiskit.ipynb",
      "version": "0.3.2",
      "provenance": [],
      "collapsed_sections": [],
      "include_colab_link": true
    },
    "kernelspec": {
      "name": "python3",
      "display_name": "Python 3"
    }
  },
  "cells": [
    {
      "cell_type": "markdown",
      "metadata": {
        "id": "view-in-github",
        "colab_type": "text"
      },
      "source": [
        "<a href=\"https://colab.research.google.com/github/JavaFXpert/qiskit4devs-workshop-notebooks/blob/master/quantum_not_gate_qiskit.ipynb\" target=\"_parent\"><img src=\"https://colab.research.google.com/assets/colab-badge.svg\" alt=\"Open In Colab\"/></a>"
      ]
    },
    {
      "metadata": {
        "id": "Ec7mzS_Uj8Rz",
        "colab_type": "code",
        "colab": {}
      },
      "cell_type": "code",
      "source": [
        ""
      ],
      "execution_count": 0,
      "outputs": []
    },
    {
      "metadata": {
        "id": "-Lh381LZkY9W",
        "colab_type": "text"
      },
      "cell_type": "markdown",
      "source": [
        "# The quantum version of a NOT gate\n",
        "In classical programming, a [NOT gate](https://bit.ly/2SmqonO) turns a 0 into a 1, and vice-versa. The quantum version of a NOT gate is the [X gate](https://en.wikipedia.org/wiki/Quantum_logic_gate#Pauli-X_gate), often referred to as the Pauli-X gate. It turns a quantum state 0, symbolized in Dirac notation by $\\vert0\\rangle$, into a $\\vert1\\rangle$, and vice-versa. It also operates on states that are in some combination, or *superposition*, of $\\vert0\\rangle$and $\\vert1\\rangle$. To demonstrate the X gate, we'll create a simple quantum circuit with the [Qiskit](https://qiskit.org/) framework after we've installe the Qiskit libraries and imported the necessary items.\n",
        "\n"
      ]
    },
    {
      "metadata": {
        "id": "MFyUj-8yI9JG",
        "colab_type": "code",
        "colab": {}
      },
      "cell_type": "code",
      "source": [
        "# To install the Qiskit libraries, uncomment the pip install the first time this cell is run\n",
        "# !pip install qiskit\n",
        "\n",
        "# Do the necessary imports for our program\n",
        "import numpy as np\n",
        "from qiskit import QuantumCircuit, ClassicalRegister, QuantumRegister\n",
        "from qiskit import execute"
      ],
      "execution_count": 0,
      "outputs": []
    },
    {
      "metadata": {
        "id": "qTJMysLtJpsF",
        "colab_type": "code",
        "outputId": "d624f9ae-f72d-42b3-f648-b848958d5b98",
        "colab": {
          "base_uri": "https://localhost:8080/",
          "height": 135
        }
      },
      "cell_type": "code",
      "source": [
        "# Create a Quantum Register with 1 qubit (wire).\n",
        "qr = QuantumRegister(1)\n",
        "\n",
        "# Create a Classical Register with 1 bit (double wire).\n",
        "cr = ClassicalRegister(1)\n",
        "\n",
        "# Create a Quantum Circuit from the quantum and classical registers\n",
        "circ = QuantumCircuit(qr, cr)\n",
        "\n",
        "# Place an X gate on the qubit wire\n",
        "circ.x(qr[0])\n",
        "\n",
        "# Measure the qubit into the classical register\n",
        "circ.measure(qr, cr)\n",
        "\n",
        "# Draw the circuit\n",
        "circ.draw(output='mpl')\n"
      ],
      "execution_count": 4,
      "outputs": [
        {
          "output_type": "execute_result",
          "data": {
            "image/png": "[encoded data removed]",
            "text/plain": [
              "<matplotlib.figure.Figure at 0x7fdbdc407dd8>"
            ]
          },
          "metadata": {
            "tags": []
          },
          "execution_count": 4
        }
      ]
    },
    {
      "metadata": {
        "id": "Ze1KvaGtumdf",
        "colab_type": "text"
      },
      "cell_type": "markdown",
      "source": [
        "Now that the quantum circuit has been defined and drawn, let's execute it on a quantum simulator, running the circuit 100 times. Each run and measurement of the circuit is called a *shot*."
      ]
    },
    {
      "metadata": {
        "id": "q9VtcrnDKmd1",
        "colab_type": "code",
        "outputId": "15574f9b-c1e7-4212-f19d-539698bb9d63",
        "colab": {
          "base_uri": "https://localhost:8080/",
          "height": 124
        }
      },
      "cell_type": "code",
      "source": [
        "# Import Aer\n",
        "from qiskit import BasicAer\n",
        "\n",
        "# Use Aer's qasm_simulator\n",
        "backend_sim = BasicAer.get_backend('qasm_simulator')\n",
        "\n",
        "# Execute the circuit on the qasm simulator, running it 100 times.\n",
        "job_sim = execute(circ, backend_sim, shots=100)\n",
        "\n",
        "# Grab the results from the job.\n",
        "result_sim = job_sim.result()\n",
        "\n",
        "# Print the counts, which are contained in a Python dictionary\n",
        "counts = result_sim.get_counts(circ)\n",
        "print(counts)\n"
      ],
      "execution_count": 3,
      "outputs": [
        {
          "output_type": "stream",
          "text": [
            "/usr/local/lib/python3.6/dist-packages/marshmallow/schema.py:364: ChangedInMarshmallow3Warning: strict=False is not recommended. In marshmallow 3.0, schemas will always be strict. See https://marshmallow.readthedocs.io/en/latest/upgrading.html#schemas-are-always-strict\n",
            "  ChangedInMarshmallow3Warning\n"
          ],
          "name": "stderr"
        },
        {
          "output_type": "stream",
          "text": [
            "{'1': 100}\n"
          ],
          "name": "stdout"
        },
        {
          "output_type": "stream",
          "text": [
            "/usr/local/lib/python3.6/dist-packages/marshmallow/schema.py:364: ChangedInMarshmallow3Warning: strict=False is not recommended. In marshmallow 3.0, schemas will always be strict. See https://marshmallow.readthedocs.io/en/latest/upgrading.html#schemas-are-always-strict\n",
            "  ChangedInMarshmallow3Warning\n"
          ],
          "name": "stderr"
        }
      ]
    },
    {
      "metadata": {
        "id": "F1ZxWlWGyK-3",
        "colab_type": "text"
      },
      "cell_type": "markdown",
      "source": [
        "The measurement for each run should be $\\vert1\\rangle$ as prescribed by the circuit. We'll now generate a visualization of the results."
      ]
    },
    {
      "metadata": {
        "id": "-5ZQVEBF7Tqq",
        "colab_type": "code",
        "outputId": "9c74986b-99aa-4aab-f599-205d2c01bd5e",
        "colab": {
          "base_uri": "https://localhost:8080/",
          "height": 323
        }
      },
      "cell_type": "code",
      "source": [
        "from qiskit.tools.visualization import plot_histogram\n",
        "\n",
        "# Plot the results on a bar chart\n",
        "plot_histogram(counts)"
      ],
      "execution_count": 4,
      "outputs": [
        {
          "output_type": "execute_result",
          "data": {
            "image/png": "[encoded data removed]",
            "text/plain": [
              "<matplotlib.figure.Figure at 0x7fa287089048>"
            ]
          },
          "metadata": {
            "tags": []
          },
          "execution_count": 4
        }
      ]
    },
    {
      "metadata": {
        "id": "-XgCp8Eb2nPA",
        "colab_type": "text"
      },
      "cell_type": "markdown",
      "source": [
        "Now it's your turn to play! In the following cell, create a one-qubit circuit that uses two X gates so that the measurements result in the initial state of the qubit. To try your hand at this, write some code after each of the comments and run the cell."
      ]
    },
    {
      "metadata": {
        "id": "gLJdvWsB36rz",
        "colab_type": "code",
        "colab": {}
      },
      "cell_type": "code",
      "source": [
        "# Create a Quantum Register with 1 qubit (wire).\n",
        "\n",
        "\n",
        "# Create a Classical Register with 1 bit (double wire).\n",
        "\n",
        "\n",
        "# Create a Quantum Circuit from the quantum and classical registers\n",
        "\n",
        "\n",
        "# Place two X gates on the qubit wire\n",
        "\n",
        "\n",
        "# Measure the qubit into the classical register\n",
        "\n",
        "\n",
        "# Draw the circuit\n",
        "\n",
        "\n",
        "# Use Aer's qasm_simulator\n",
        "\n",
        "\n",
        "# Execute the circuit on the qasm simulator, running it 100 times.\n",
        "\n",
        "\n",
        "# Grab the results from the job.\n",
        "\n",
        "\n",
        "# Print the counts, which are contained in a Python dictionary\n",
        "\n",
        "\n",
        "# Plot the results on a bar chart\n"
      ],
      "execution_count": 0,
      "outputs": []
    },
    {
      "metadata": {
        "id": "3U03pKa067WK",
        "colab_type": "text"
      },
      "cell_type": "markdown",
      "source": [
        "The result of running the cell that you filled in should be a histogram containing one bar. This bar should indicate that the measurements of each of the 100 shots resulted in the $\\vert0\\rangle$ quantum state."
      ]
    }
  ]
}