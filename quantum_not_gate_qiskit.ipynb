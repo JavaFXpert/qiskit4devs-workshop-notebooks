{
  "nbformat": 4,
  "nbformat_minor": 0,
  "metadata": {
    "colab": {
      "name": "quantum_not_gate_qiskit.ipynb",
      "version": "0.3.2",
      "provenance": [],
      "private_outputs": true,
      "collapsed_sections": [],
      "include_colab_link": true
    },
    "kernelspec": {
      "display_name": "Python 3 (Ubuntu Linux)",
      "language": "python",
      "name": "python3"
    }
  },
  "cells": [
    {
      "cell_type": "markdown",
      "metadata": {
        "id": "view-in-github",
        "colab_type": "text"
      },
      "source": [
        "<a href=\"https://colab.research.google.com/github/JavaFXpert/qiskit4devs-workshop-notebooks/blob/master/quantum_not_gate_qiskit.ipynb\" target=\"_parent\"><img src=\"https://colab.research.google.com/assets/colab-badge.svg\" alt=\"Open In Colab\"/></a>"
      ]
    },
    {
      "metadata": {
        "colab_type": "text",
        "collapsed": false,
        "id": "-Lh381LZkY9W"
      },
      "cell_type": "markdown",
      "source": [
        "# The quantum version of a NOT gate\n",
        "In classical programming, a [NOT gate](https://bit.ly/2SmqonO) turns a 0 bit into a 1 bit, and vice-versa. The quantum version of a NOT gate is the X gate, often referred to as the [Pauli-X gate](https://en.wikipedia.org/wiki/Quantum_logic_gate#Pauli-X_gate). It turns a [qubit](https://en.wikipedia.org/wiki/Qubit) symbolized in a [Dirac notation](https://en.wikipedia.org/wiki/Bra%E2%80%93ket_notation \"Dirac notation article on Wikipedia\") _ket_ by $\\vert0\\rangle$ into a $\\vert1\\rangle$, and vice-versa. These $\\vert0\\rangle$ and $\\vert1\\rangle$ qubits are quantum states, specifically _computational basis states_, and they are the quantum counterparts of the classical 0 and 1 bits. The X gate also operates on quantum states that are in some combination, or *superposition*, of the $\\vert0\\rangle$and $\\vert1\\rangle$ computational basis states. To demonstrate the X gate, we'll create a simple quantum circuit with the [Qiskit](https://qiskit.org/) framework after we've imported the necessary items.\n",
        "\n"
      ]
    },
    {
      "metadata": {
        "colab_type": "code",
        "id": "MFyUj-8yI9JG",
        "colab": {}
      },
      "cell_type": "code",
      "source": [
        "!pip install qiskit\n",
        "# Include the necessary imports for this program\n",
        "import numpy as np\n",
        "from qiskit import QuantumCircuit, ClassicalRegister, QuantumRegister\n",
        "from qiskit import execute"
      ],
      "execution_count": 0,
      "outputs": []
    },
    {
      "metadata": {
        "colab_type": "code",
        "id": "qTJMysLtJpsF",
        "colab": {}
      },
      "cell_type": "code",
      "source": [
        "# Create a Quantum Register with 1 qubit (wire).\n",
        "qr = QuantumRegister(1)\n",
        "\n",
        "# Create a Classical Register with 1 bit (double wire).\n",
        "cr = ClassicalRegister(1)\n",
        "\n",
        "# Create a Quantum Circuit from the quantum and classical registers\n",
        "circ = QuantumCircuit(qr, cr)\n",
        "\n",
        "# Place an X gate on the qubit wire. The registers are zero-indexed.\n",
        "circ.x(qr[0])\n",
        "\n",
        "# Measure the qubit into the classical register\n",
        "circ.measure(qr, cr)\n",
        "\n",
        "# Draw the circuit\n",
        "circ.draw(output='mpl')\n"
      ],
      "execution_count": 0,
      "outputs": []
    },
    {
      "metadata": {
        "colab_type": "text",
        "collapsed": false,
        "id": "Ze1KvaGtumdf"
      },
      "cell_type": "markdown",
      "source": [
        "Now that the quantum circuit has been defined and drawn, let's execute it on a quantum simulator, running the circuit 100 times. Each run and measurement of the circuit is called a *shot*."
      ]
    },
    {
      "metadata": {
        "colab_type": "code",
        "id": "q9VtcrnDKmd1",
        "colab": {}
      },
      "cell_type": "code",
      "source": [
        "# Import BasicAer\n",
        "from qiskit import BasicAer\n",
        "\n",
        "# Use BasicAer's qasm_simulator\n",
        "backend_sim = BasicAer.get_backend('qasm_simulator')\n",
        "\n",
        "# Execute the circuit on the qasm simulator, running it 100 times.\n",
        "job_sim = execute(circ, backend_sim, shots=100)\n",
        "\n",
        "# Grab the results from the job.\n",
        "result_sim = job_sim.result()\n",
        "\n",
        "# Print the counts, which are contained in a Python dictionary\n",
        "counts = result_sim.get_counts(circ)\n",
        "print(counts)\n"
      ],
      "execution_count": 0,
      "outputs": []
    },
    {
      "metadata": {
        "colab_type": "text",
        "collapsed": false,
        "id": "F1ZxWlWGyK-3"
      },
      "cell_type": "markdown",
      "source": [
        "The measurement for each run should be $\\vert1\\rangle$ as prescribed by the circuit. We'll now generate a visualization of the results."
      ]
    },
    {
      "metadata": {
        "colab_type": "code",
        "id": "-5ZQVEBF7Tqq",
        "colab": {}
      },
      "cell_type": "code",
      "source": [
        "from qiskit.tools.visualization import plot_histogram\n",
        "\n",
        "# Plot the results on a bar chart\n",
        "plot_histogram(counts)"
      ],
      "execution_count": 0,
      "outputs": []
    },
    {
      "metadata": {
        "colab_type": "text",
        "collapsed": false,
        "id": "-XgCp8Eb2nPA"
      },
      "cell_type": "markdown",
      "source": [
        "Now it's your turn to play! In the following cell, create a one-qubit circuit that uses two X gates so that the measurements result in the initial state of the qubit. To try your hand at this, write some code after each of the comments and run each of the cells. First, create and draw the circuit:"
      ]
    },
    {
      "metadata": {
        "colab_type": "code",
        "id": "gLJdvWsB36rz",
        "colab": {}
      },
      "cell_type": "code",
      "source": [
        "# Include the necessary imports for this program\n",
        "\n",
        "\n",
        "# Create a Quantum Register with 1 qubit (wire).\n",
        "\n",
        "\n",
        "# Create a Classical Register with 1 bit (double wire).\n",
        "\n",
        "\n",
        "# Create a Quantum Circuit from the quantum and classical registers\n",
        "\n",
        "\n",
        "# Place two X gates on the qubit wire. The registers are zero-indexed.\n",
        "\n",
        "\n",
        "# Measure the qubit into the classical register\n",
        "\n",
        "\n",
        "# Draw the circuit\n",
        "\n"
      ],
      "execution_count": 0,
      "outputs": []
    },
    {
      "metadata": {
        "collapsed": false,
        "id": "MmDyhRydrAMa",
        "colab_type": "text"
      },
      "cell_type": "markdown",
      "source": [
        "Next, run the circuit on a simulator, and print the measurement results:"
      ]
    },
    {
      "metadata": {
        "id": "yRiJFmSUrAMb",
        "colab_type": "code",
        "colab": {}
      },
      "cell_type": "code",
      "source": [
        "# Import BasicAer\n",
        "\n",
        "\n",
        "# Use BasicAer's qasm_simulator\n",
        "\n",
        "\n",
        "# Execute the circuit on the qasm simulator, running it 100 times.\n",
        "\n",
        "\n",
        "# Grab the results from the job.\n",
        "\n",
        "\n",
        "# Print the counts, which are contained in a Python dictionary\n",
        "\n"
      ],
      "execution_count": 0,
      "outputs": []
    },
    {
      "metadata": {
        "collapsed": false,
        "id": "LinG0rLcrAMe",
        "colab_type": "text"
      },
      "cell_type": "markdown",
      "source": [
        "Finally, visualize the results on a histogram:"
      ]
    },
    {
      "metadata": {
        "id": "RFmnsDtLrAMe",
        "colab_type": "code",
        "colab": {}
      },
      "cell_type": "code",
      "source": [
        "# Plot the results on a bar chart\n"
      ],
      "execution_count": 0,
      "outputs": []
    },
    {
      "metadata": {
        "colab_type": "text",
        "collapsed": false,
        "id": "3U03pKa067WK"
      },
      "cell_type": "markdown",
      "source": [
        "The result of running the cell that you filled in should be a histogram containing one bar. This bar should indicate that the measurements of each of the 100 shots resulted in the $\\vert0\\rangle$ quantum state.\n",
        "\n",
        "Now that you've successfully created a quantum circuit that contains an X gate, let's take a look at how it may be modeled using linear algebra.\n",
        "\n",
        "#### Modeling a qubit with a vector\n",
        "In linear algebra terms, the $\\vert0\\rangle$ qubit is represented by the following two-dimensional vector.\n",
        "\n",
        "$$\n",
        " \\begin{bmatrix}\n",
        "  1 \\\\\n",
        "  0\n",
        " \\end{bmatrix}\n",
        "$$\n",
        " \n",
        "The first element, or dimension, of this vector holds the _amplitude_ of the $\\vert0\\rangle$ computational basis state. The second dimension of this vector holds the amplitude of the $\\vert1\\rangle$ computational basis state. This is shown geometrically in the following unit circle that represents the qubit's two-dimensional vector space. The vector is drawn from the origin to the point that is 1 on the $\\vert0\\rangle$ axis, and 0 on the $\\vert1\\rangle$ axis. \n",
        "\n",
        "<div align='center'><img src='images/qubit-unit-zero.png' width=240 height=240 title='Plane representing |0> in vector space'></div>\n",
        "<br/>\n",
        "Similarly, the following vector represents the $\\vert1\\rangle$ qubit.\n",
        "\n",
        "$$\n",
        " \\begin{bmatrix}\n",
        "  0 \\\\\n",
        "  1\n",
        " \\end{bmatrix}\n",
        "$$\n",
        "\n",
        "In the corresponding unit circle, the vector is drawn from the origin to the point that is 0 on the $\\vert0\\rangle$ axis, and 1 on the $\\vert1\\rangle$ axis. \n",
        "\n",
        "<div align='center'><img src='images/qubit-unit-one.png' width=240 height=240 title='Plane representing |1> in vector space'></div>\n",
        "\n",
        "The probability that a qubit, when measured, will result in a given computational basis state is the square of the absolute value of that computational basis state's amplitude. Therefore, the measurement of a qubit represented by the first vector shown previously results in the $\\vert0\\rangle$ computational basis state, and the measurement of a qubit represented by the second vector shown previously results in the $\\vert1\\rangle$ computational basis state.\n",
        "\n",
        "#### Modeling a quantum gate with a matrix\n",
        "Quantum gates may be represented with matrices in linear algebra. For example, the X gate is represented by the following matrix.\n",
        "$$\n",
        " \\begin{bmatrix}\n",
        "  0 & 1 \\\\\n",
        "  1 & 0\n",
        " \\end{bmatrix}\n",
        "$$\n",
        "\n",
        "To model the effect of a quantum gate on a qubit, we'll multiply the matrix that represents the X gate by the vector that represents a $\\vert0\\rangle$ qubit.\n",
        "\n",
        "$$\n",
        " \\begin{bmatrix}\n",
        "  0 & 1 \\\\\n",
        "  1 & 0\n",
        " \\end{bmatrix}.\n",
        " \\begin{bmatrix}\n",
        "  1 \\\\\n",
        "  0\n",
        " \\end{bmatrix}=\n",
        " \\begin{bmatrix}\n",
        "  0 \\\\\n",
        "  1\n",
        " \\end{bmatrix}\n",
        "$$\n",
        "\n",
        "The result is a vector that represents the $\\vert1\\rangle$ qubit.\n",
        "\n",
        "Some quantum gates, when applied twice, result in the original quantum state. The X gate has that quality, as shown in the following multiplication of the X gate matrix by a vector that represents a $\\vert1\\rangle$ qubit. The result is a vector that represents a $\\vert0\\rangle$ qubit.\n",
        "\n",
        "$$\n",
        " \\begin{bmatrix}\n",
        "  0 & 1 \\\\\n",
        "  1 & 0\n",
        " \\end{bmatrix}.\n",
        " \\begin{bmatrix}\n",
        "  0 \\\\\n",
        "  1\n",
        " \\end{bmatrix}=\n",
        " \\begin{bmatrix}\n",
        "  1 \\\\\n",
        "  0\n",
        " \\end{bmatrix}\n",
        "$$\n",
        "\n"
      ]
    },
    {
      "metadata": {
        "collapsed": false,
        "id": "9R5YSPOerAMi",
        "colab_type": "text"
      },
      "cell_type": "markdown",
      "source": [
        "#### Representing a qubit on a Bloch sphere\n",
        "Qubit states are often represented on a [_Bloch sphere_](https://en.wikipedia.org/wiki/Bloch_sphere), with the $\\vert0\\rangle$ computational basis state at the top of the sphere, and the $\\vert1\\rangle$ computational basis state at the bottom of the sphere. The sphere on the left represents a $\\vert0\\rangle$ qubit, as the line & arrow points to the top of the sphere. Similarly, the sphere on the right represents a $\\vert1\\rangle$ qubit, with the line & arrow pointing to the bottom of the sphere.\n",
        "\n",
        "<div align='center'><img src='images/bloch-0-state.png' width=250 height=250 title='Bloch sphere representation of the |0> state'>\n",
        "<img src='images/bloch-1-state.png' width=250 height=250 title='Bloch sphere representation of the |1> state'></div>\n",
        "\n",
        "#### Behavior of quantum gates on the Bloch sphere\n",
        "Each quantum gate, including the X gate, transforms a quantum state to a (usually) different one. The behavior of these transformations on a Bloch sphere is that the line & arrow rotates to another point on the surface. Specifically, the X gate rotates $\\pi$ radians ($180$ degrees) around the X axis. For example, the Bloch sphere on the left results in the Bloch sphere on the right, and vice-versa.\n",
        "\n",
        "#### Your turn to play with Bloch spheres\n",
        "To get a better feel for how Bloch spheres represent qubits and the behavior of quantum gates, go ahead and experiment with this [Bloch sphere playground application](https://javafxpert.github.io/grok-bloch \"grok-bloch application\"). Use the buttons labeled *$\\vert0\\rangle$*, *$\\vert1\\rangle$*, and *X* and notice how the line & arrow are positioned after each click. There are several other gates on the right side of the application with which you can experiment, even if you aren't yet familiar with them. Playing around will give you some intuition about their behavior in advance of when you study them more formally. \n",
        "\n",
        "[<div align='center'><img src='images/grok-bloch-screen-shot.png' width=600 title='Bloch sphere playground application'></div>](https://javafxpert.github.io/grok-bloch/)\n",
        "<br/>\n",
        "\n",
        "Note that each of the infinite number of points on the surface of the Bloch sphere are valid qubit states. As mentioned earlier, these states are combinations, or superpositions, of the $\\vert0\\rangle$ and $\\vert1\\rangle$ computational basis states. Leveraging these superpositional states is one thing that separates quantum computing from classical computing, and will be explored further in upcoming lessons."
      ]
    }
  ]
}