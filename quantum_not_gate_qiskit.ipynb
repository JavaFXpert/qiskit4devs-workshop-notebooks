{
  "nbformat": 4,
  "nbformat_minor": 0,
  "metadata": {
    "colab": {
      "name": "quantum_not_gate_qiskit.ipynb",
      "version": "0.3.2",
      "provenance": [],
      "include_colab_link": true
    },
    "kernelspec": {
      "display_name": "Python 2",
      "language": "python",
      "name": "python2"
    }
  },
  "cells": [
    {
      "cell_type": "markdown",
      "metadata": {
        "id": "view-in-github",
        "colab_type": "text"
      },
      "source": [
        "<a href=\"https://colab.research.google.com/github/JavaFXpert/qiskit4devs-workshop-notebooks/blob/master/quantum_not_gate_qiskit.ipynb\" target=\"_parent\"><img src=\"https://colab.research.google.com/assets/colab-badge.svg\" alt=\"Open In Colab\"/></a>"
      ]
    },
    {
      "metadata": {
        "collapsed": true,
        "id": "eKk_ODIHA_oj",
        "colab_type": "text"
      },
      "cell_type": "markdown",
      "source": [
        "#The quantum version of a NOT gate\n",
        "In classical programming, a [NOT gate](https://bit.ly/2SmqonO) turns a 0 into a 1, and vice-versa. The quantum version of a NOT gate is the [X gate](https://en.wikipedia.org/wiki/Quantum_logic_gate#Pauli-X_gate), often referred to as the Pauli-X gate. It turns a quantum state 0, symbolized in Dirac notation by $\\vert0\\rangle$, into a $\\vert1\\rangle$, and vice-versa. It also operates on states that are in some combination, or *superposition*, of $\\vert0\\rangle$and $\\vert1\\rangle$. To demonstrate the X gate, we'll create tne following quantum circuit with the [Qiskit](https://qiskit.org/) framework."
      ]
    }
  ]
}