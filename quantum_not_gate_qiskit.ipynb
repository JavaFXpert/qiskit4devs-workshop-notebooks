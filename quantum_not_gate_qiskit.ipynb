{
  "nbformat": 4,
  "nbformat_minor": 0,
  "metadata": {
    "colab": {
      "name": "quantum_not_gate_qiskit.ipynb",
      "version": "0.3.2",
      "provenance": [],
      "collapsed_sections": [],
      "include_colab_link": true
    },
    "kernelspec": {
      "name": "python3",
      "display_name": "Python 3"
    }
  },
  "cells": [
    {
      "cell_type": "markdown",
      "metadata": {
        "id": "view-in-github",
        "colab_type": "text"
      },
      "source": [
        "<a href=\"https://colab.research.google.com/github/JavaFXpert/qiskit4devs-workshop-notebooks/blob/master/quantum_not_gate_qiskit.ipynb\" target=\"_parent\"><img src=\"https://colab.research.google.com/assets/colab-badge.svg\" alt=\"Open In Colab\"/></a>"
      ]
    },
    {
      "metadata": {
        "id": "Ec7mzS_Uj8Rz",
        "colab_type": "code",
        "colab": {}
      },
      "cell_type": "code",
      "source": [
        ""
      ],
      "execution_count": 0,
      "outputs": []
    },
    {
      "metadata": {
        "id": "-Lh381LZkY9W",
        "colab_type": "text"
      },
      "cell_type": "markdown",
      "source": [
        "# The quantum version of a NOT gate\n",
        "In classical programming, a [NOT gate](https://bit.ly/2SmqonO) turns a 0 into a 1, and vice-versa. The quantum version of a NOT gate is the [X gate](https://en.wikipedia.org/wiki/Quantum_logic_gate#Pauli-X_gate), often referred to as the Pauli-X gate. It turns a quantum state 0, symbolized in Dirac notation by $\\vert0\\rangle$, into a $\\vert1\\rangle$, and vice-versa. It also operates on states that are in some combination, or *superposition*, of $\\vert0\\rangle$and $\\vert1\\rangle$. To demonstrate the X gate, we'll create tne following quantum circuit with the [Qiskit](https://qiskit.org/) framework.\n"
      ]
    },
    {
      "metadata": {
        "id": "MFyUj-8yI9JG",
        "colab_type": "code",
        "outputId": "b94fe01f-bfaa-4bd9-df9f-c2e76b34c757",
        "colab": {
          "base_uri": "https://localhost:8080/",
          "height": 72
        }
      },
      "cell_type": "code",
      "source": [
        "# !pip install qiskit\n",
        "import numpy as np\n",
        "from qiskit import QuantumCircuit, ClassicalRegister, QuantumRegister\n",
        "from qiskit import execute"
      ],
      "execution_count": 1,
      "outputs": [
        {
          "output_type": "stream",
          "text": [
            "/usr/local/lib/python3.6/dist-packages/marshmallow/schema.py:364: ChangedInMarshmallow3Warning: strict=False is not recommended. In marshmallow 3.0, schemas will always be strict. See https://marshmallow.readthedocs.io/en/latest/upgrading.html#schemas-are-always-strict\n",
            "  ChangedInMarshmallow3Warning\n"
          ],
          "name": "stderr"
        }
      ]
    },
    {
      "metadata": {
        "id": "qTJMysLtJpsF",
        "colab_type": "code",
        "outputId": "f3f43161-c9df-4c5e-eebb-ed2486524576",
        "colab": {
          "base_uri": "https://localhost:8080/",
          "height": 135
        }
      },
      "cell_type": "code",
      "source": [
        "# Create a Quantum Register with 1 qubit (wires).\n",
        "qr = QuantumRegister(1)\n",
        "\n",
        "# Create a Classical Register with 1 bit (double wire).\n",
        "cr = ClassicalRegister(1)\n",
        "\n",
        "# Create a Quantum Circuit from the quantum and classical registers\n",
        "circ = QuantumCircuit(qr, cr)\n",
        "\n",
        "# Place an X gate on the top qubit\n",
        "circ.x(qr[0])\n",
        "\n",
        "# Measure all of the qubits into the classical registers\n",
        "circ.measure(qr, cr)\n",
        "\n",
        "# Draw the circuit\n",
        "circ.draw(output='mpl')\n"
      ],
      "execution_count": 2,
      "outputs": [
        {
          "output_type": "execute_result",
          "data": {
            "image/png": "[encoded data removed]",
            "text/plain": [
              "<matplotlib.figure.Figure at 0x7fa28762d6a0>"
            ]
          },
          "metadata": {
            "tags": []
          },
          "execution_count": 2
        }
      ]
    },
    {
      "metadata": {
        "id": "q9VtcrnDKmd1",
        "colab_type": "code",
        "outputId": "15574f9b-c1e7-4212-f19d-539698bb9d63",
        "colab": {
          "base_uri": "https://localhost:8080/",
          "height": 124
        }
      },
      "cell_type": "code",
      "source": [
        "# Import Aer\n",
        "from qiskit import BasicAer\n",
        "\n",
        "# Use Aer's qasm_simulator\n",
        "backend_sim = BasicAer.get_backend('qasm_simulator')\n",
        "\n",
        "# Execute the circuit on the qasm simulator 100 times.\n",
        "job_sim = execute(circ, backend_sim, shots=100)\n",
        "\n",
        "# Grab the results from the job.\n",
        "result_sim = job_sim.result()\n",
        "\n",
        "# Print the counts, which are contained in a dictionary\n",
        "counts = result_sim.get_counts(circ)\n",
        "print(counts)\n"
      ],
      "execution_count": 3,
      "outputs": [
        {
          "output_type": "stream",
          "text": [
            "/usr/local/lib/python3.6/dist-packages/marshmallow/schema.py:364: ChangedInMarshmallow3Warning: strict=False is not recommended. In marshmallow 3.0, schemas will always be strict. See https://marshmallow.readthedocs.io/en/latest/upgrading.html#schemas-are-always-strict\n",
            "  ChangedInMarshmallow3Warning\n"
          ],
          "name": "stderr"
        },
        {
          "output_type": "stream",
          "text": [
            "{'1': 100}\n"
          ],
          "name": "stdout"
        },
        {
          "output_type": "stream",
          "text": [
            "/usr/local/lib/python3.6/dist-packages/marshmallow/schema.py:364: ChangedInMarshmallow3Warning: strict=False is not recommended. In marshmallow 3.0, schemas will always be strict. See https://marshmallow.readthedocs.io/en/latest/upgrading.html#schemas-are-always-strict\n",
            "  ChangedInMarshmallow3Warning\n"
          ],
          "name": "stderr"
        }
      ]
    },
    {
      "metadata": {
        "id": "-5ZQVEBF7Tqq",
        "colab_type": "code",
        "outputId": "9c74986b-99aa-4aab-f599-205d2c01bd5e",
        "colab": {
          "base_uri": "https://localhost:8080/",
          "height": 323
        }
      },
      "cell_type": "code",
      "source": [
        "from qiskit.tools.visualization import plot_histogram\n",
        "\n",
        "# Plot the results on a bar chart\n",
        "plot_histogram(counts)"
      ],
      "execution_count": 4,
      "outputs": [
        {
          "output_type": "execute_result",
          "data": {
            "image/png": "[encoded data removed]",
            "text/plain": [
              "<matplotlib.figure.Figure at 0x7fa287089048>"
            ]
          },
          "metadata": {
            "tags": []
          },
          "execution_count": 4
        }
      ]
    }
  ]
}