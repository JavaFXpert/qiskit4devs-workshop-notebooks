{
  "nbformat": 4,
  "nbformat_minor": 0,
  "metadata": {
    "colab": {
      "name": "quantum_not_gate_qiskit.ipynb",
      "version": "0.3.2",
      "provenance": [],
      "private_outputs": true,
      "collapsed_sections": [],
      "include_colab_link": true
    },
    "kernelspec": {
      "display_name": "Python 3 (Ubuntu Linux)",
      "language": "python",
      "name": "python3"
    }
  },
  "cells": [
    {
      "cell_type": "markdown",
      "metadata": {
        "id": "view-in-github",
        "colab_type": "text"
      },
      "source": [
        "<a href=\"https://colab.research.google.com/github/JavaFXpert/qiskit4devs-workshop-notebooks/blob/master/rotating_around_bloch.ipynb\" target=\"_parent\"><img src=\"https://colab.research.google.com/assets/colab-badge.svg\" alt=\"Open In Colab\"/></a>"
      ]
    },
    {
      "metadata": {
        "colab_type": "text",
        "collapsed": true,
        "id": "-Lh381LZkY9W"
      },
      "cell_type": "markdown",
      "source": [
        "## Rotating around the Bloch sphere\n",
        "Single-qubit gates may be visualized as rotations around the Bloch sphere. For example, recall that applying an _X_ gate results in a $\\pi$ rotation around the X axis. Take a few minutes to read the [Single-Qubit Gates](https://qiskit.org/documentation/terra/summary_of_quantum_operations.html#single-qubit-gates) section of the Qiskit Terra documentation, focusing on the _X_, _Y_, _Z_, _S_, _T_, _Rx_, _Ry_ and _Rz_ gates. As you're reading about the behavior of each gate and the [unitary matrices](https://en.wikipedia.org/wiki/Unitary_matrix) that model them, use the [Bloch sphere playground application](https://javafxpert.github.io/grok-bloch/) to visualize their rotations and effect on the qubit's state. Some gates, including _Z_, _Rz_, _S_, and _T_ rotate exclusively around the Z axis, therefore affecting the qubit's phase but not its amplitudes or measurement probabilities. Other gates, including _X_, _Rx_, _Y_ and _Ry_ affect its amplitudes, and consequently its measurement probabilities.\n",
        "\n",
        "Suppose we wanted a qubit to evolve from state $\\vert0\\rangle$ to a state whose probability of measuring $\\vert1\\rangle$ is approximately 0.85 and whose phase is $\\pi$. One approach would be to use the _Bloch sphere playground application_ to try rotations that achieve that state. Doing so shows that applying an _Ry_ gate with a rotation angle ($\\theta$) of $-3\\pi/4$ will do the trick. The following code leverages this gate and angle to produce the desired state."
      ]
    },
    {
      "metadata": {
        "id": "eI2ad3aJWcKg",
        "colab_type": "code",
        "colab": {}
      },
      "cell_type": "code",
      "source": [
        "!pip install qiskit\n",
        "# Do the usual setup, but without classical registers or measurement\n",
        "import numpy as np\n",
        "from qiskit import QuantumCircuit, QuantumRegister, execute\n",
        "\n",
        "qr = QuantumRegister(1)\n",
        "circ = QuantumCircuit(qr)\n"
      ],
      "execution_count": 0,
      "outputs": []
    },
    {
      "metadata": {
        "id": "9S3q9oI0XK4i",
        "colab_type": "code",
        "colab": {}
      },
      "cell_type": "code",
      "source": [
        "\n",
        "# Place an Ry gate with a −3π/4 rotation\n",
        "circ.ry(-3/4 * np.pi, qr[0])\n",
        "\n",
        "# Draw the circuit\n",
        "circ.draw(output='mpl')\n"
      ],
      "execution_count": 0,
      "outputs": []
    },
    {
      "metadata": {
        "collapsed": false,
        "id": "Nf9fLNluWcKk",
        "colab_type": "text"
      },
      "cell_type": "markdown",
      "source": [
        "We'll use the statevector simulator to verify that we've achieved the desired state"
      ]
    },
    {
      "metadata": {
        "id": "cztKMdLeWcKl",
        "colab_type": "code",
        "colab": {}
      },
      "cell_type": "code",
      "source": [
        "# Use the BasicAer statevector_simulator backend\n",
        "from qiskit import BasicAer\n",
        "backend_sv_sim = BasicAer.get_backend('statevector_simulator')\n",
        "\n",
        "job_sim = execute(circ, backend_sv_sim)\n",
        "result_sim = job_sim.result()\n",
        "quantum_state = result_sim.get_statevector(circ, decimals=3)\n",
        "\n",
        "# Output the quantum state vector\n",
        "quantum_state"
      ],
      "execution_count": 0,
      "outputs": []
    },
    {
      "metadata": {
        "collapsed": false,
        "id": "Zma8WE38WcKn",
        "colab_type": "text"
      },
      "cell_type": "markdown",
      "source": [
        "Notice that the desired probabilities have been achieved, as squaring the absolute values of the $\\vert1\\rangle$ amplitude $-0.924i$ results in approximately 0.85. Let's visualize this state on the Bloch sphere."
      ]
    },
    {
      "metadata": {
        "id": "aSsGGqJTWcKn",
        "colab_type": "code",
        "colab": {}
      },
      "cell_type": "code",
      "source": [
        "# Plot the state vector on a Bloch sphere\n",
        "from qiskit.tools.visualization import plot_bloch_multivector\n",
        "plot_bloch_multivector(quantum_state)"
      ],
      "execution_count": 0,
      "outputs": []
    },
    {
      "metadata": {
        "collapsed": false,
        "id": "R-2If2lPWcKp",
        "colab_type": "text"
      },
      "cell_type": "markdown",
      "source": [
        "#### Now it's your turn to play!\n",
        "Here's a challenge for you: In the following cells, modify the circuit to achieve a qubit state whose probability of measuring $\\vert0\\rangle$ is 0.75, and phase is $\\pi/4$ \n"
      ]
    },
    {
      "metadata": {
        "scrolled": true,
        "id": "lZkGk9WrWcKq",
        "colab_type": "code",
        "colab": {}
      },
      "cell_type": "code",
      "source": [
        "# Do the usual setup, but without classical registers or measurement\n",
        "import numpy as np\n",
        "from qiskit import QuantumCircuit, QuantumRegister, execute\n",
        "\n",
        "qr = QuantumRegister(1)\n",
        "circ = QuantumCircuit(qr)\n",
        "\n",
        "# Place gates that will achieve the desired state\n",
        "\n",
        "\n",
        "# Draw the circuit\n",
        "circ.draw(output='mpl')\n"
      ],
      "execution_count": 0,
      "outputs": []
    },
    {
      "metadata": {
        "id": "istNd1WWWcKs",
        "colab_type": "code",
        "colab": {}
      },
      "cell_type": "code",
      "source": [
        "# Use the BasicAer statevector_simulator backend\n",
        "from qiskit import BasicAer\n",
        "backend_sv_sim = BasicAer.get_backend('statevector_simulator')\n",
        "\n",
        "job_sim = execute(circ, backend_sv_sim)\n",
        "result_sim = job_sim.result()\n",
        "quantum_state = result_sim.get_statevector(circ, decimals=3)\n",
        "\n",
        "# Output the quantum state vector\n",
        "quantum_state"
      ],
      "execution_count": 0,
      "outputs": []
    },
    {
      "metadata": {
        "id": "fulhcY4uWcKu",
        "colab_type": "code",
        "colab": {}
      },
      "cell_type": "code",
      "source": [
        "# Plot the state vector on a Bloch sphere\n",
        "from qiskit.tools.visualization import plot_bloch_multivector\n",
        "plot_bloch_multivector(quantum_state)"
      ],
      "execution_count": 0,
      "outputs": []
    },
    {
      "metadata": {
        "collapsed": false,
        "id": "6pFGKnJ1WcKw",
        "colab_type": "text"
      },
      "cell_type": "markdown",
      "source": [
        "#### One more challenge before you go\n",
        "\n",
        "Recall that the Hadamard gate rotates the state on the Bloch sphere $\\pi$ radians around the diagonal X+Z axis. Because of this behavior, inserting a phase rotation gate between two Hadamard gates has the effect of converting the Z rotation into an X rotation. This is used by some quantum computing algorithms to trade phase with probability amplitudes while in a superposition. Your challenge is to create a circuit (in the cells above) that contains two Hadamard gates with a phase rotation gate in-between them. The probability of measuring $\\vert0\\rangle$ must be approximately 0.85.\n",
        "\n",
        "Enjoy this challenge, and congratulations on the progress you've made on your quantum computing journey!"
      ]
    }
  ]
}