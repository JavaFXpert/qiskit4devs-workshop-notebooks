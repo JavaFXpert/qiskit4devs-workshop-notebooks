{
 "cells": [
  {
   "cell_type": "markdown",
   "metadata": {
    "id": "view-in-github",
    "colab_type": "text"
   },
   "source": [
    "<a href=\"https://colab.research.google.com/github/JavaFXpert/qiskit4devs-workshop-notebooks/blob/master/entangling_qubits.ipynb\" target=\"_parent\"><img src=\"https://colab.research.google.com/assets/colab-badge.svg\" alt=\"Open In Colab\"/></a>"
   ]
  },
  {
   "cell_type": "markdown",
   "metadata": {
    "colab_type": "text",
    "collapsed": false,
    "id": "-Lh381LZkY9W"
   },
   "source": [
    "## Entangling qubits with a CNOT gate\n",
    "Many quantum algorithms leverage a property of quantum mechanics that Einstein called \"spooky actions at a distance\", known as *quantum entanglement*. In quantum computing, entanglement requires the use of quantum gates that operate on more than one qubit at a time. One such gate is the CNOT, which we'll use in conjunction with a Hadamard gate to maximally entangle two qubits.\n",
    "\n",
    "\n",
    "To demonstrate entanglement, we'll create a two-wire quantum circuit with the [Qiskit](https://qiskit.org/) framework:"
   ]
  },
  {
   "cell_type": "code",
   "execution_count": 0,
   "metadata": {
    "id": "6Go0lrHPiFx7",
    "colab_type": "code",
    "colab": {}
   },
   "outputs": [],
   "source": [
    "#!pip install qiskit\n",
    "# Include the necessary imports for this program\n",
    "import numpy as np\n",
    "from qiskit import QuantumCircuit, ClassicalRegister, QuantumRegister\n",
    "from qiskit import execute"
   ]
  },
  {
   "cell_type": "markdown",
   "metadata": {
    "collapsed": false,
    "id": "Nl7WKbv7iFx_",
    "colab_type": "text"
   },
   "source": [
    "So that we can examine the quantum state vector when the qubits are entangled, we're going to use Qiskit's \"statevector_simulator\". We'll create the canonical entanglement circuit, that consists of a Hadamard followed by a CNOT:"
   ]
  },
  {
   "cell_type": "code",
   "execution_count": 0,
   "metadata": {
    "id": "I0ieqjOEiFyA",
    "colab_type": "code",
    "colab": {}
   },
   "outputs": [],
   "source": [
    "# Create a Quantum Register with 2 qubits\n",
    "qr = QuantumRegister(2)\n",
    "\n",
    "# Create a Quantum Circuit from the quantum register. Because we're going to use\n",
    "# the statevector_simulator, we won't measure the circuit or need classical registers.\n",
    "circ = QuantumCircuit(qr)\n",
    "\n",
    "# Place Hadamard gate on the top wire, putting this qubit in a superposition.\n",
    "circ.h(qr[0])\n",
    "\n",
    "# Add a CX (CNOT) gate across the top two wires, entangling the qubits.\n",
    "circ.cx(qr[0], qr[1])\n",
    "\n",
    "# Draw the circuit\n",
    "circ.draw(output='mpl')\n"
   ]
  },
  {
   "cell_type": "markdown",
   "metadata": {
    "collapsed": false,
    "id": "W8SWokjJiFyD",
    "colab_type": "text"
   },
   "source": [
    "Now that the quantum circuit has been defined and drawn, we'll execute it on a state vector simulator and examine the quantum state, which is one of the four [Bell states](https://en.wikipedia.org/wiki/Bell_state)."
   ]
  },
  {
   "cell_type": "code",
   "execution_count": 0,
   "metadata": {
    "id": "xBS7XydUiFyD",
    "colab_type": "code",
    "colab": {}
   },
   "outputs": [],
   "source": [
    "# Use the BasicAer statevector_simulator backend\n",
    "from qiskit import BasicAer\n",
    "backend_sv_sim = BasicAer.get_backend('statevector_simulator')\n",
    "\n",
    "# Execute the circuit on the state vector simulator\n",
    "job_sim = execute(circ, backend_sv_sim)\n",
    "\n",
    "# Grab the results from the job.\n",
    "result_sim = job_sim.result()\n",
    "\n",
    "# Obtain the state vector for the quantum circuit\n",
    "quantum_state = result_sim.get_statevector(circ, decimals=3)\n",
    "\n",
    "# Output the quantum state vector in a manner that contains a comma-delimited string.\n",
    "quantum_state"
   ]
  },
  {
   "cell_type": "markdown",
   "metadata": {
    "collapsed": false,
    "id": "iidiBpZAiFyG",
    "colab_type": "text"
   },
   "source": [
    "Now visualize this Bell state on a Q-sphere:"
   ]
  },
  {
   "cell_type": "code",
   "execution_count": 0,
   "metadata": {
    "id": "5q0MVL5NiFyH",
    "colab_type": "code",
    "colab": {}
   },
   "outputs": [],
   "source": [
    "# Plot the state vector on a Q-sphere\n",
    "from qiskit.tools.visualization import plot_state_qsphere\n",
    "plot_state_qsphere(quantum_state)"
   ]
  },
  {
   "cell_type": "markdown",
   "metadata": {
    "collapsed": false,
    "id": "1uaY33XiiFyK",
    "colab_type": "text"
   },
   "source": [
    "#### The Bell states\n",
    "The output of the previously run cell contains a comma-separated string that represents the circuit's quantum state, in this case one of the Bell states. Here is the quantum state in vector notation:\n",
    "\n",
    "$$\n",
    " \\begin{bmatrix}\n",
    "  1 \\\\\n",
    "  0 \\\\\n",
    "  0 \\\\\n",
    "  1\n",
    " \\end{bmatrix}=\n",
    " \\begin{bmatrix}\n",
    "  ? \\\\\n",
    "  ?\n",
    " \\end{bmatrix}\\otimes\n",
    " \\begin{bmatrix}\n",
    "  ? \\\\\n",
    "  ?\n",
    " \\end{bmatrix}\n",
    "$$\n",
    "\n",
    "As noted by the question marks in the qubit state vectors, the Bell states cannot be expressed as the tensor product of their individual qubit state vectors. \n",
    "\n",
    "This Bell state may also be represented using Dirac notation as\n",
    "\n",
    "$$\\vert\\Phi^+\\rangle = \\frac{\\vert00\\rangle+\\vert11\\rangle}{\\sqrt{2}}$$\n",
    "\n",
    "where $\\vert\\Phi^+\\rangle$ is the usual way of denoting this particular Bell state. Note that the $\\sqrt{2}$ in the denominator normalizes the state so that its probabilities sum to 1. In this Bell state, measurement will result in $\\vert00\\rangle$ and $\\vert11\\rangle$ with equal probability. Therefore, given the circuit in the previous code example (and ignoring errors on the quantum device), if the result of measuring the top wire is $\\vert0\\rangle$, then the result of measuring the bottom wire will be $\\vert0\\rangle$. Conversely, if the result of measuring the top wire is $\\vert1\\rangle$, then the result of measuring the bottom wire will be $\\vert1\\rangle$. This behavior demonstrates that the two qubits are entangled.\n",
    "\n",
    "There are three other Bell states, for a total of four. Each of the Bell states are the _maximally entangled_ states for two qubits, meaning that their measurements are most highly correlated. These additional Bell states are represented in vector notaton and Dirac notation as follows:\n",
    "\n",
    "$$\n",
    " \\vert\\Phi^-\\rangle = \n",
    " \\begin{bmatrix}\n",
    "  1 \\\\\n",
    "  0 \\\\\n",
    "  0 \\\\\n",
    "  -1\n",
    " \\end{bmatrix}=\n",
    "\\frac{\\vert00\\rangle-\\vert11\\rangle}{\\sqrt{2}}\n",
    "$$\n",
    "\n",
    "$$\n",
    " \\vert\\Psi^+\\rangle = \n",
    " \\begin{bmatrix}\n",
    "  0 \\\\\n",
    "  1 \\\\\n",
    "  1 \\\\\n",
    "  0\n",
    " \\end{bmatrix}=\n",
    "\\frac{\\vert01\\rangle+\\vert10\\rangle}{\\sqrt{2}}\n",
    "$$\n",
    "\n",
    "$$\n",
    " \\vert\\Psi^-\\rangle = \n",
    " \\begin{bmatrix}\n",
    "  0 \\\\\n",
    "  1 \\\\\n",
    "  -1 \\\\\n",
    "  0\n",
    " \\end{bmatrix}=\n",
    "\\frac{\\vert01\\rangle-\\vert10\\rangle}{\\sqrt{2}}\n",
    "$$\n",
    "\n",
    "Each of the Bell states are _orthogonal_, or perpendicular, to each other in a four dimensional vector space. Mathematically, two vectors are orthogonal if their [dot product](https://en.wikipedia.org/wiki/Dot_product \"Dot product article on Wikipedia\") is $0$. \n",
    "\n",
    "> Note: A simple example of orthogonal vectors in a two dimensional vector space is the $\\vert0\\rangle$ and $\\vert1\\rangle$ basis states whose dot product is $0$:\n",
    ">\n",
    "> $$\n",
    " \\begin{bmatrix}\n",
    "  1 \\\\\n",
    "  0\n",
    " \\end{bmatrix}\\cdot\n",
    " \\begin{bmatrix}\n",
    "  0 \\\\\n",
    "  1\n",
    " \\end{bmatrix}=\n",
    " \\left(1\\cdot0\\right) + \\left(0\\cdot1\\right)=\n",
    " 0\n",
    "$$\n",
    "\n",
    "Taking the dot product (more generally the _inner product_) on any two of the Bell states will result in $0$. For example, let's do that with the $\\vert\\Psi^-\\rangle$ and $\\vert\\Phi^+\\rangle$ Bell states:\n",
    "\n",
    "$$\n",
    " \\begin{bmatrix}\n",
    "  0 \\\\\n",
    "  1 \\\\\n",
    "  -1 \\\\\n",
    "  0\n",
    " \\end{bmatrix}\\cdot\n",
    " \\begin{bmatrix}\n",
    "  1 \\\\\n",
    "  0 \\\\\n",
    "  0 \\\\\n",
    "  1\n",
    " \\end{bmatrix}=\n",
    " \\left(0\\cdot1\\right) + \\left(1\\cdot0\\right) + \\left(-1\\cdot0\\right) + \\left(0\\cdot1\\right)=\n",
    " 0\n",
    "$$\n",
    "\n",
    "Another way of expressing this inner product is in Dirac notation in the following manner:\n",
    "\n",
    "$$\\langle\\Psi^-\\vert\\Phi^+\\rangle$$\n",
    "\n",
    "In Dirac notation the $\\langle\\vert$ symbol is called a [bra](https://en.wikipedia.org/wiki/Bra%E2%80%93ket_notation \"Bra-ket notation article on Wikipedia\"), and it represents the _conjugate transpose_ of a column vector, which is a [row vector](https://en.wikipedia.org/wiki/Row_and_column_vectors \"Row and column vectors article on Wikipedia\"). Because this vector contains no _complex numbers_, only a simple [transpose](https://en.wikipedia.org/wiki/Transpose \"Transpose article on Wikipedia\") is required. So the inner product shown in Dirac notation previously may be expressed as the following [matrix multiplication](https://en.wikipedia.org/wiki/Matrix_multiplication \"Matrix multiplication article on Wikipedia\"):\n",
    "\n",
    "$$\n",
    " \\begin{bmatrix}\n",
    "  0 &\n",
    "  1 &\n",
    "  -1 &\n",
    "  0\n",
    " \\end{bmatrix}\n",
    " \\begin{bmatrix}\n",
    "  1 \\\\\n",
    "  0 \\\\\n",
    "  0 \\\\\n",
    "  1\n",
    " \\end{bmatrix}=\n",
    " \\begin{bmatrix}\n",
    "  \\left(0\\cdot1\\right) + \\left(1\\cdot0\\right) + \\left(-1\\cdot0\\right) + \\left(0\\cdot1\\right)\n",
    " \\end{bmatrix}=\n",
    " 0\n",
    "$$\n",
    "\n",
    "Now we'll generate another visualization of the $\\vert\\Phi^+\\rangle$ Bell on a Q-sphere. To do this, paste the comma-separated state vector produced earlier into the text field in the upper-left corner of the [Quantum Spheres Playground application](https://javafxpert.github.io/quantum-state-spheres/ \"Quantum Spheres Playground application\"). You should see a Q-sphere similar to the following, with the volumes of the balls corresponding to $\\vert00\\rangle$ and $\\vert11\\rangle$ signifying equal measurement probability.\n",
    "\n",
    "<div align='center'><img src='https://github.com/JavaFXpert/qiskit4devs-workshop-notebooks/blob/master/images/qsphere-bell-phi-plus.png?raw=1' width=400 title='Q-sphere representation the Phi+ Bell state'>\n",
    "</div>\n",
    "\n",
    "<br/>\n",
    "To verify that the qubits are entangled, let's measure them several times. First we'll add measurements to the circuit and create an updated drawing:"
   ]
  },
  {
   "cell_type": "code",
   "execution_count": 0,
   "metadata": {
    "id": "TB28xBffiFyL",
    "colab_type": "code",
    "colab": {}
   },
   "outputs": [],
   "source": [
    "# Create a Classical Register with 2 bits\n",
    "cr = ClassicalRegister(2)\n",
    "\n",
    "# Create the measurement portion of a quantum circuit\n",
    "meas_circ = QuantumCircuit(qr, cr)\n",
    "\n",
    "# Create a barrier that separates the gates from the measurements\n",
    "meas_circ.barrier(qr)\n",
    "\n",
    "# Measure the qubits into the classical registers\n",
    "meas_circ.measure(qr, cr)\n",
    "\n",
    "# Add the measument circuit to the original circuit\n",
    "complete_circuit = circ + meas_circ\n",
    "\n",
    "# Draw the new circuit\n",
    "complete_circuit.draw(output='mpl')"
   ]
  },
  {
   "cell_type": "markdown",
   "metadata": {
    "collapsed": false,
    "id": "8zp-qG0ViFyN",
    "colab_type": "text"
   },
   "source": [
    "Now we'll execute the updated circuit on a quantum simulator that includes measurements:"
   ]
  },
  {
   "cell_type": "code",
   "execution_count": 0,
   "metadata": {
    "id": "fW5uwWZ6iFyO",
    "colab_type": "code",
    "colab": {}
   },
   "outputs": [],
   "source": [
    "# Use the BasicAer qasm_simulator backend\n",
    "from qiskit import BasicAer\n",
    "backend_sim = BasicAer.get_backend('qasm_simulator')\n",
    "\n",
    "# Execute the circuit on the qasm simulator, running it 1000 times.\n",
    "job_sim = execute(complete_circuit, backend_sim, shots=1000)\n",
    "\n",
    "# Grab the results from the job.\n",
    "result_sim = job_sim.result()\n",
    "\n",
    "# Print the counts, which are contained in a Python dictionary\n",
    "counts = result_sim.get_counts(complete_circuit)\n",
    "print(counts)"
   ]
  },
  {
   "cell_type": "markdown",
   "metadata": {
    "collapsed": false,
    "id": "WIgjwhnkiFyQ",
    "colab_type": "text"
   },
   "source": [
    "The result of the measurements should be fairly evenly split between $\\vert00\\rangle$ and $\\vert11\\rangle$."
   ]
  },
  {
   "cell_type": "code",
   "execution_count": 0,
   "metadata": {
    "id": "kn33f2g4iFyS",
    "colab_type": "code",
    "colab": {}
   },
   "outputs": [],
   "source": [
    "# Plot the results on a histogram\n",
    "from qiskit.tools.visualization import plot_histogram\n",
    "plot_histogram(counts)"
   ]
  },
  {
   "cell_type": "markdown",
   "metadata": {
    "collapsed": false,
    "id": "AuSrlNtviFyV",
    "colab_type": "text"
   },
   "source": [
    "#### Now it's your turn to play!\n",
    "Here's a challenge for you: In the following cells, modify and run the previous cells three times, each producing one of the remaining three Bell states and associated circuits. \n",
    "\n",
    "First, create a circuit for one of the Bell states:"
   ]
  },
  {
   "cell_type": "code",
   "execution_count": 0,
   "metadata": {
    "id": "94ipLsttiFyW",
    "colab_type": "code",
    "colab": {}
   },
   "outputs": [],
   "source": [
    "# Include the necessary imports for this program\n",
    "\n",
    "\n",
    "# Create a Quantum Register with 2 qubits\n",
    "\n",
    "\n",
    "# Create a Quantum Circuit from the quantum register. Because we're going to use\n",
    "# the statevector_simulator, we won't measure the circuit or need classical registers.\n",
    "\n",
    "\n",
    "# Place appropriate gates on the wires to achieve the desired Bell state\n",
    "\n",
    "\n",
    "# Draw the circuit\n"
   ]
  },
  {
   "cell_type": "markdown",
   "metadata": {
    "collapsed": false,
    "id": "a2T5qCWWiFyX",
    "colab_type": "text"
   },
   "source": [
    "Next, execute the circuit on a state vector simulator and output its state vector"
   ]
  },
  {
   "cell_type": "code",
   "execution_count": 0,
   "metadata": {
    "id": "LQKKq8SNiFyY",
    "colab_type": "code",
    "colab": {}
   },
   "outputs": [],
   "source": [
    "# Use the BasicAer statevector_simulator backend\n",
    "\n",
    "\n",
    "# Execute the circuit on the state vector simulator\n",
    "\n",
    "\n",
    "# Grab the results from the job.\n",
    "\n",
    "\n",
    "# Obtain the state vector for the quantum circuit\n",
    "\n",
    "\n",
    "# Output the quantum state vector in a manner that contains a comma-delimited string.\n"
   ]
  },
  {
   "cell_type": "markdown",
   "metadata": {
    "collapsed": false,
    "id": "l0zMoxzSiFya",
    "colab_type": "text"
   },
   "source": [
    "Next, visualize this Bell state on a Q-sphere. Note that the colors used in Q-sphere visualizations denote the _phase_ of a basis state, so in a couple of these visualizations you should see two different colors."
   ]
  },
  {
   "cell_type": "code",
   "execution_count": 0,
   "metadata": {
    "scrolled": true,
    "id": "NOQGWrCpiFyb",
    "colab_type": "code",
    "colab": {}
   },
   "outputs": [],
   "source": [
    "# Plot the state vector on a Q-sphere\n"
   ]
  },
  {
   "cell_type": "markdown",
   "metadata": {
    "collapsed": false,
    "id": "M0QHldqgiFyd",
    "colab_type": "text"
   },
   "source": [
    "Paste the comma-separated state vector into the [Quantum Spheres Playground application](https://javafxpert.github.io/quantum-state-spheres/ \"Quantum Spheres Playground application\") for an alternative visualization on a Q-sphere.\n",
    "\n",
    "To verify that the qubits are entangled, measure them several times. First, add measurements to the circuit and create an updated drawing:"
   ]
  },
  {
   "cell_type": "code",
   "execution_count": 0,
   "metadata": {
    "id": "WvNBPNl9iFye",
    "colab_type": "code",
    "colab": {}
   },
   "outputs": [],
   "source": [
    "# Create a Classical Register with 2 bits\n",
    "\n",
    "\n",
    "# Create the measurement portion of a quantum circuit\n",
    "\n",
    "\n",
    "# Create a barrier that separates the gates from the measurements\n",
    "\n",
    "\n",
    "# Measure the qubits into the classical registers\n",
    "\n",
    "\n",
    "# Add the measument circuit to the original circuit\n",
    "\n",
    "\n",
    "# Draw the new circuit\n"
   ]
  },
  {
   "cell_type": "markdown",
   "metadata": {
    "collapsed": false,
    "id": "JlK_nDQwiFyg",
    "colab_type": "text"
   },
   "source": [
    "Execute the updated circuit on a quantum simulator that includes measurements:"
   ]
  },
  {
   "cell_type": "code",
   "execution_count": 0,
   "metadata": {
    "id": "sHUx1WfKiFyh",
    "colab_type": "code",
    "colab": {}
   },
   "outputs": [],
   "source": [
    "# Use the BasicAer qasm_simulator backend\n",
    "\n",
    "\n",
    "# Execute the circuit on the qasm simulator, running it 1000 times.\n",
    "\n",
    "\n",
    "# Grab the results from the job.\n",
    "\n",
    "\n",
    "# Print the counts, which are contained in a Python dictionary\n"
   ]
  },
  {
   "cell_type": "markdown",
   "metadata": {
    "collapsed": false,
    "id": "V6chG90CiFyj",
    "colab_type": "text"
   },
   "source": [
    "Depending on the Bell state, the result of the measurements should be fairly evenly split between $\\vert00\\rangle$ and $\\vert11\\rangle$, or $\\vert01\\rangle$ and $\\vert10\\rangle$.\n",
    "\n",
    "Finally, plot the results on a histogram."
   ]
  },
  {
   "cell_type": "code",
   "execution_count": 0,
   "metadata": {
    "colab_type": "code",
    "id": "-5ZQVEBF7Tqq",
    "colab": {}
   },
   "outputs": [],
   "source": [
    "# Plot the results on a histogram\n"
   ]
  },
  {
   "cell_type": "markdown",
   "metadata": {
    "collapsed": true,
    "id": "hq5prp0fiFym",
    "colab_type": "text"
   },
   "source": [
    "If you successfully completed this challenge, then congratulations are in order! In the next lesson, we'll take a closer look at the gates introduced so far, including the properties of their underlying _unitary matrices_."
   ]
  }
 ],
 "metadata": {
  "colab": {
   "name": "quantum_not_gate_qiskit.ipynb",
   "version": "0.3.2",
   "provenance": [],
   "private_outputs": true,
   "collapsed_sections": [],
   "include_colab_link": true
  },
  "kernelspec": {
   "display_name": "Python 3 (Ubuntu Linux)",
   "language": "python",
   "name": "python3"
  }
 },
 "nbformat": 4,
 "nbformat_minor": 0
}
